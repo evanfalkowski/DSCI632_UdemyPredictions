{
 "cells": [
  {
   "cell_type": "markdown",
   "metadata": {
    "id": "oKUNELdnkex-"
   },
   "source": [
    "<h1 style = \"text-align:center\">Final Project Report: Undemy Courses Analysis</h1>\n",
    "<h2 style=\"text-align:center\"> Drexel University </h2>\n",
    "<h2 style = \"text-align:center\"> College of Computing and Informatics</h2>\n",
    "<h2 style = \"text-align:center\">DSCI 632: Applied Cloud Computing (Winter 2021-22)</h2>\n",
    "<p style = \"text-align:center\">Team Members:</p>\n",
    "<p style = \"text-align:center\">Ramirez, Fernando -- far33@drexel.edu </p>\n",
    "<p style = \"text-align:center\">Nijsure, Amit -- an834@drexel.edu</p>\n",
    "<p style = \"text-align:center\">Falkowski, Evan -- ejf85@drexel.edu</p>"
   ]
  },
  {
   "cell_type": "markdown",
   "metadata": {
    "id": "QK2zS7mnlE0b"
   },
   "source": [
    "# 1. Introduction\n",
    "\n",
    "The scope of this project is a Udemy dataset analysis, with Udemy being one of the largest platforms for online learning globally. Udemy is a (MOOC) platform with over fifteen thousand courses and forty million students. In this dataset we will analyze four different types of subject-courses offered in Udemy, including, web-development, business finance, musical instruments, and graphical design. Within Udemy both paid and unpaid courses are offered, thus we will choose to explore the popularity of courses surrounding paid subscription or unpaid, as well as level of popularity based on the number of enrolled students, instructor reviews, and content durations. \n",
    "\n",
    "As part of the EDA (exploratory data analysis), we will explore which category of classes are most successful and which variables present in the dataset show statistical importance in determining the trajectory of enrolled students based on the course type. Additionally, we will perform analysis on the end-users, student and instructors alike to explore which type of courses are most likely to be reviewed, best free / paid courses, and gross revenue (profit). \n",
    "\n",
    "For the purposes of machine learning we may explore all or some of the following analysis and associated methods: \n",
    "\n",
    "1.\tPrediction - number of subscribers based on course (regression)\n",
    "2.\tPrediction - number of reviews given course features (regression) \n",
    "3.\tPrediction - revenue of each subject-type (regression)  \n",
    "4.\tPrediction - price cost (paid or unpaid) cost for course (regression) \n",
    "5.\tPrediction - if a course is paid or unpaid based on instructor, subject type, or history (review) (classification task) \n",
    "Prediction - level of course is offered given set of features or filters (classification task) \n",
    "\n",
    "For the purposes of this dataset and objective of using pyspark the following analysis using the Udemy dataset can be performed at a future date \n",
    "\n",
    "1. Predicting if a course will be paid or unpaid \n",
    "2. optimal course pricing to determine maximum revenue for the udemy platform "
   ]
  },
  {
   "cell_type": "markdown",
   "metadata": {
    "id": "VoVws1W1lKET"
   },
   "source": [
    "# 2. Importing PySpark on VM + Libraries"
   ]
  },
  {
   "cell_type": "code",
   "execution_count": null,
   "metadata": {
    "id": "vPVJ44nZkeB2"
   },
   "outputs": [],
   "source": [
    "!apt-get install openjdk-8-jdk-headless -qq > /dev/null\n",
    "!wget -q https://archive.apache.org/dist/spark/spark-3.1.1/spark-3.1.1-bin-hadoop2.7.tgz\n",
    "!tar xf spark-3.1.1-bin-hadoop2.7.tgz"
   ]
  },
  {
   "cell_type": "code",
   "execution_count": null,
   "metadata": {
    "id": "SUY_-Jqlk7Uu"
   },
   "outputs": [],
   "source": [
    "import os\n",
    "os.environ[\"JAVA_HOME\"] =\"/usr/lib/jvm/java-8-openjdk-amd64\" \n",
    "os.environ[\"SPARK_HOME\"] = \"/content/spark-3.1.1-bin-hadoop2.7\""
   ]
  },
  {
   "cell_type": "code",
   "execution_count": null,
   "metadata": {
    "colab": {
     "base_uri": "https://localhost:8080/"
    },
    "id": "jYnAb6NTlaPg",
    "outputId": "a7e48c93-9e92-4c3f-b61b-1d24f54b6e97"
   },
   "outputs": [
    {
     "name": "stdout",
     "output_type": "stream",
     "text": [
      "Collecting pyspark\n",
      "  Downloading pyspark-3.2.1.tar.gz (281.4 MB)\n",
      "\u001b[K     |████████████████████████████████| 281.4 MB 30 kB/s \n",
      "\u001b[?25hCollecting py4j==0.10.9.3\n",
      "  Downloading py4j-0.10.9.3-py2.py3-none-any.whl (198 kB)\n",
      "\u001b[K     |████████████████████████████████| 198 kB 57.8 MB/s \n",
      "\u001b[?25hBuilding wheels for collected packages: pyspark\n",
      "  Building wheel for pyspark (setup.py) ... \u001b[?25l\u001b[?25hdone\n",
      "  Created wheel for pyspark: filename=pyspark-3.2.1-py2.py3-none-any.whl size=281853642 sha256=78e98f8f76b901dab29108c7dc6b5f783a63affc22dceea97d2d443e795c729c\n",
      "  Stored in directory: /root/.cache/pip/wheels/9f/f5/07/7cd8017084dce4e93e84e92efd1e1d5334db05f2e83bcef74f\n",
      "Successfully built pyspark\n",
      "Installing collected packages: py4j, pyspark\n",
      "Successfully installed py4j-0.10.9.3 pyspark-3.2.1\n"
     ]
    }
   ],
   "source": [
    "!pip install -q findspark\n",
    "!pip install pyspark"
   ]
  },
  {
   "cell_type": "code",
   "execution_count": null,
   "metadata": {
    "colab": {
     "base_uri": "https://localhost:8080/"
    },
    "id": "eC_i5lnVlvgx",
    "outputId": "9bab02dc-6709-4759-85bb-368468ab2242"
   },
   "outputs": [
    {
     "name": "stdout",
     "output_type": "stream",
     "text": [
      "Mounted at /content/gdrive/\n"
     ]
    }
   ],
   "source": [
    "from google.colab import drive\n",
    "drive.mount('/content/gdrive/')"
   ]
  },
  {
   "cell_type": "code",
   "execution_count": null,
   "metadata": {
    "id": "oucKJA2Wl3-H"
   },
   "outputs": [],
   "source": [
    "from pyspark.sql import SparkSession"
   ]
  },
  {
   "cell_type": "code",
   "execution_count": null,
   "metadata": {
    "id": "-1gyQxzFl5CK"
   },
   "outputs": [],
   "source": [
    "APP_NAME = \"FinalProject\""
   ]
  },
  {
   "cell_type": "code",
   "execution_count": null,
   "metadata": {
    "id": "SrhKrA6ul6ne"
   },
   "outputs": [],
   "source": [
    "spark = SparkSession.builder.appName(APP_NAME).getOrCreate()"
   ]
  },
  {
   "cell_type": "code",
   "execution_count": null,
   "metadata": {
    "id": "opNL8PF1o63o"
   },
   "outputs": [],
   "source": [
    "from pyspark.sql.types import StructType, StructField, FloatType, StringType\n",
    "from pyspark.sql.functions import col,isnan, when, count\n",
    "from pyspark.sql.types import *\n",
    "from pyspark.sql import functions as F\n",
    "from pyspark.sql.types import IntegerType\n",
    "\n",
    "from pyspark.sql.functions import sum, col, desc\n",
    "from pyspark.sql.functions import mean, col"
   ]
  },
  {
   "cell_type": "code",
   "execution_count": null,
   "metadata": {
    "colab": {
     "base_uri": "https://localhost:8080/"
    },
    "id": "wYbx0EZMsU7n",
    "outputId": "da41cb74-17c5-431f-e11f-7034747aaaba"
   },
   "outputs": [
    {
     "name": "stdout",
     "output_type": "stream",
     "text": [
      "Collecting spark-plot\n",
      "  Downloading spark-plot-0.0.1.tar.gz (36 kB)\n",
      "  Installing build dependencies ... \u001b[?25l\u001b[?25hdone\n",
      "  Getting requirements to build wheel ... \u001b[?25l\u001b[?25hdone\n",
      "    Preparing wheel metadata ... \u001b[?25l\u001b[?25hdone\n",
      "Requirement already satisfied: matplotlib in /usr/local/lib/python3.7/dist-packages (from spark-plot) (3.2.2)\n",
      "Requirement already satisfied: pyspark in /usr/local/lib/python3.7/dist-packages (from spark-plot) (3.2.1)\n",
      "Requirement already satisfied: cycler>=0.10 in /usr/local/lib/python3.7/dist-packages (from matplotlib->spark-plot) (0.11.0)\n",
      "Requirement already satisfied: python-dateutil>=2.1 in /usr/local/lib/python3.7/dist-packages (from matplotlib->spark-plot) (2.8.2)\n",
      "Requirement already satisfied: kiwisolver>=1.0.1 in /usr/local/lib/python3.7/dist-packages (from matplotlib->spark-plot) (1.3.2)\n",
      "Requirement already satisfied: pyparsing!=2.0.4,!=2.1.2,!=2.1.6,>=2.0.1 in /usr/local/lib/python3.7/dist-packages (from matplotlib->spark-plot) (3.0.7)\n",
      "Requirement already satisfied: numpy>=1.11 in /usr/local/lib/python3.7/dist-packages (from matplotlib->spark-plot) (1.21.5)\n",
      "Requirement already satisfied: six>=1.5 in /usr/local/lib/python3.7/dist-packages (from python-dateutil>=2.1->matplotlib->spark-plot) (1.15.0)\n",
      "Requirement already satisfied: py4j==0.10.9.3 in /usr/local/lib/python3.7/dist-packages (from pyspark->spark-plot) (0.10.9.3)\n",
      "Building wheels for collected packages: spark-plot\n",
      "  Building wheel for spark-plot (PEP 517) ... \u001b[?25l\u001b[?25hdone\n",
      "  Created wheel for spark-plot: filename=spark_plot-0.0.1-py2.py3-none-any.whl size=9077 sha256=b41fd0e65f7ad5bc19d8c5baed70556d0291bc6bd5bf5254e647a42fc9043be1\n",
      "  Stored in directory: /root/.cache/pip/wheels/90/41/34/aebde12a852c190d712439080a1b7674def7d568047acc5e29\n",
      "Successfully built spark-plot\n",
      "Installing collected packages: spark-plot\n",
      "Successfully installed spark-plot-0.0.1\n"
     ]
    }
   ],
   "source": [
    "pip install spark-plot"
   ]
  },
  {
   "cell_type": "code",
   "execution_count": null,
   "metadata": {
    "id": "ZC2PTvT2twjm"
   },
   "outputs": [],
   "source": [
    "from spark_plot import mpl"
   ]
  },
  {
   "cell_type": "code",
   "execution_count": null,
   "metadata": {
    "id": "-g_BVEM_pDuR"
   },
   "outputs": [],
   "source": [
    "#importing numpy and seaborn for the purposes of plotting pyspark .topandas() EDA only \n",
    "\n",
    "import numpy as np\n",
    "import seaborn as sns \n",
    "\n",
    "%matplotlib inline\n",
    "import matplotlib.pyplot as plt \n",
    "import matplotlib.image as mping"
   ]
  },
  {
   "cell_type": "code",
   "execution_count": null,
   "metadata": {
    "id": "MvbNWKuG7Glv"
   },
   "outputs": [],
   "source": [
    "#All analysis used in pyspark \n",
    "\n",
    "from pyspark.ml import Pipeline\n",
    "from pyspark.ml.feature import StringIndexer\n",
    "from pyspark.ml.feature import VectorAssembler\n",
    "from pyspark.ml.feature import StandardScaler\n",
    "from pyspark.ml.evaluation import RegressionEvaluator\n",
    "from pyspark.sql.functions import rand\n",
    "from pyspark.mllib.evaluation import MulticlassMetrics\n",
    "from pyspark.sql import SparkSession\n",
    "from pyspark.sql.functions import col\n",
    "from pyspark.sql.types import IntegerType, BooleanType, DateType, FloatType\n",
    "import warnings\n",
    "warnings.filterwarnings(\"ignore\", category=DeprecationWarning)"
   ]
  },
  {
   "cell_type": "code",
   "execution_count": null,
   "metadata": {
    "colab": {
     "base_uri": "https://localhost:8080/"
    },
    "id": "fFJpT9jy4mbi",
    "outputId": "e307095a-cac5-40f6-8496-b1bfa9bfc446"
   },
   "outputs": [
    {
     "name": "stdout",
     "output_type": "stream",
     "text": [
      "root\n",
      " |-- course_id: integer (nullable = true)\n",
      " |-- course_title: string (nullable = true)\n",
      " |-- url: string (nullable = true)\n",
      " |-- is_paid: boolean (nullable = true)\n",
      " |-- price: integer (nullable = true)\n",
      " |-- num_subscribers: integer (nullable = true)\n",
      " |-- num_reviews: integer (nullable = true)\n",
      " |-- num_lectures: integer (nullable = true)\n",
      " |-- level: string (nullable = true)\n",
      " |-- content_duration: string (nullable = true)\n",
      " |-- published_timestamp: timestamp (nullable = true)\n",
      " |-- subject: string (nullable = true)\n",
      "\n"
     ]
    }
   ],
   "source": [
    "location = \"./gdrive/MyDrive/dsci632/datasets/udemy_courses.csv\"\n",
    "udemy = spark.read.format('csv').option('header', 'true').option('inferSchema', 'true').load(location)\n",
    "udemy.printSchema()\n",
    "#printing schema for EDA, latter schema will be converted to cast integer for ML algorithmns and applications "
   ]
  },
  {
   "cell_type": "code",
   "execution_count": null,
   "metadata": {
    "colab": {
     "base_uri": "https://localhost:8080/"
    },
    "id": "zNBU2XuKmZwc",
    "outputId": "679e8686-6ce1-439d-b73a-aca652e7b835"
   },
   "outputs": [
    {
     "name": "stdout",
     "output_type": "stream",
     "text": [
      "+---------+--------------------+--------------------+-------+-----+---------------+-----------+------------+------------------+----------------+-------------------+----------------+\n",
      "|course_id|        course_title|                 url|is_paid|price|num_subscribers|num_reviews|num_lectures|             level|content_duration|published_timestamp|         subject|\n",
      "+---------+--------------------+--------------------+-------+-----+---------------+-----------+------------+------------------+----------------+-------------------+----------------+\n",
      "|  1070968|Ultimate Investme...|https://www.udemy...|   true|  200|           2147|         23|          51|        All Levels|             1.5|2017-01-18 20:58:58|Business Finance|\n",
      "|  1113822|Complete GST Cour...|https://www.udemy...|   true|   75|           2792|        923|         274|        All Levels|            39.0|2017-03-09 16:34:20|Business Finance|\n",
      "|  1006314|Financial Modelin...|https://www.udemy...|   true|   45|           2174|         74|          51|Intermediate Level|             2.5|2016-12-19 19:26:30|Business Finance|\n",
      "|  1210588|Beginner to Pro -...|https://www.udemy...|   true|   95|           2451|         11|          36|        All Levels|             3.0|2017-05-30 20:07:24|Business Finance|\n",
      "|  1011058|How To Maximize Y...|https://www.udemy...|   true|  200|           1276|         45|          26|Intermediate Level|             2.0|2016-12-13 14:57:18|Business Finance|\n",
      "|   192870|Trading Penny Sto...|https://www.udemy...|   true|  150|           9221|        138|          25|        All Levels|             3.0|2014-05-02 15:13:30|Business Finance|\n",
      "|   739964|Investing And Tra...|https://www.udemy...|   true|   65|           1540|        178|          26|    Beginner Level|             1.0|2016-02-21 18:23:12|Business Finance|\n",
      "|   403100|Trading Stock Cha...|https://www.udemy...|   true|   95|           2917|        148|          23|        All Levels|             2.5|2015-01-30 22:13:03|Business Finance|\n",
      "|   476268|Options Trading 3...|https://www.udemy...|   true|  195|           5172|         34|          38|      Expert Level|             2.5|2015-05-28 00:14:03|Business Finance|\n",
      "|  1167710|The Only Investme...|https://www.udemy...|   true|  200|            827|         14|          15|        All Levels|             1.0|2017-04-18 18:13:32|Business Finance|\n",
      "+---------+--------------------+--------------------+-------+-----+---------------+-----------+------------+------------------+----------------+-------------------+----------------+\n",
      "only showing top 10 rows\n",
      "\n"
     ]
    }
   ],
   "source": [
    "udemy.show(n=10)"
   ]
  },
  {
   "cell_type": "code",
   "execution_count": null,
   "metadata": {
    "colab": {
     "base_uri": "https://localhost:8080/"
    },
    "id": "saqHGAcImlr-",
    "outputId": "0fb5157c-b291-42ef-d3b4-697d05f843cc"
   },
   "outputs": [
    {
     "name": "stdout",
     "output_type": "stream",
     "text": [
      "Dimension of the Dataframe is: (3683, 12)\n",
      "Number of Rows are: 3683\n",
      "Number of Columns are: 12\n"
     ]
    }
   ],
   "source": [
    "#Exploring dimensions of dataset \n",
    "row = udemy.count()\n",
    "col = len(udemy.columns)\n",
    "\n",
    "print(f'Dimension of the Dataframe is: {(row,col)}')\n",
    "print(f'Number of Rows are: {row}')\n",
    "print(f'Number of Columns are: {col}')\n"
   ]
  },
  {
   "cell_type": "markdown",
   "metadata": {
    "id": "N1Yf9ecLnCXX"
   },
   "source": [
    "This dataset is compiled with a description of 3678 unique values and 12 columns over four (4) subjects (Business Finance, Graphic Design, Musical Instruments and Web Design). Some key features include: \n",
    "\n",
    "    A. course titles - type of course within the four subjects, key-words such as Finance, Shor Selling, Python can be relevant to mapping Business Finance, or Web Design alike. \n",
    "    \n",
    "    B. urls - link to udemy websites \n",
    "    \n",
    "    C. is_paid - true or false if each course is paid or unpaid \n",
    "    \n",
    "    D. #price - student pricing, set by instructor / udemy \n",
    "    \n",
    "    E. #of_subscribers - number of students each course has \n",
    "    \n",
    "    D. #of_reviews - number of reviews for each course \n",
    "    \n",
    "    F. #num_lectures - number of lectures for each course\n",
    "    \n",
    "    G. level - All levels, Beginner, Intermediate or Expert\n",
    "    \n",
    "    F. content durations - duration of course in hours "
   ]
  },
  {
   "cell_type": "markdown",
   "metadata": {
    "id": "tyIv4v3cnI7k"
   },
   "source": [
    "# 3. Data Exploration\n",
    "\n",
    "## 3.1. Data Preparation and Pre-Processing\n",
    "\n",
    "following descriptive stats for categorical data, the dataset is cleaned and no further preprocessing is requried for task learning "
   ]
  },
  {
   "cell_type": "code",
   "execution_count": null,
   "metadata": {
    "colab": {
     "base_uri": "https://localhost:8080/"
    },
    "id": "_AAGh_CPnPs8",
    "outputId": "09cf9b19-f18c-4cac-95de-df28933f986c"
   },
   "outputs": [
    {
     "name": "stdout",
     "output_type": "stream",
     "text": [
      "+-------+------------------+-----------------+------------------+-----------------+-----------------+\n",
      "|summary|         course_id|            price|   num_subscribers|      num_reviews|     num_lectures|\n",
      "+-------+------------------+-----------------+------------------+-----------------+-----------------+\n",
      "|  count|              3683|             3683|              3683|             3683|             3683|\n",
      "|   mean| 675659.5669291338|66.02362204724409|3194.0879717621506|156.0635351615531|40.10371979364648|\n",
      "| stddev|343312.44985599595|60.98245298617676|  9498.06175049199|934.8317623992202|50.35501983469615|\n",
      "|    min|              8324|                0|                 0|                0|                0|\n",
      "|    max|           1282064|              200|            268923|            27445|              779|\n",
      "+-------+------------------+-----------------+------------------+-----------------+-----------------+\n",
      "\n"
     ]
    }
   ],
   "source": [
    "udemy.select([col[0] for col in udemy.dtypes if col[1] != 'string']).describe().show()\n",
    "\n",
    "#showing descriptive stats, latter useful in outlier analysis for numerical features \n",
    "#course_id, price, num_subscribers, num_reviews, and num_lectures "
   ]
  },
  {
   "cell_type": "code",
   "execution_count": null,
   "metadata": {
    "id": "QvIGSjU9nUUq"
   },
   "outputs": [],
   "source": [
    "total_udemy_attributes = udemy.groupBy().sum().collect()[0]"
   ]
  },
  {
   "cell_type": "code",
   "execution_count": null,
   "metadata": {
    "colab": {
     "base_uri": "https://localhost:8080/"
    },
    "id": "_ixHuH65no2q",
    "outputId": "ba0b0de1-704a-4b8a-dee3-8d59839076b6"
   },
   "outputs": [
    {
     "data": {
      "text/plain": [
       "Row(sum(course_id)=2488454185, sum(price)=243165, sum(num_subscribers)=11763826, sum(num_reviews)=574782, sum(num_lectures)=147702)"
      ]
     },
     "execution_count": 20,
     "metadata": {},
     "output_type": "execute_result"
    }
   ],
   "source": [
    "total_udemy_attributes\n",
    "\n",
    "#here we have the total sum of all prices, num_subscribers, num_reviews, and num_lectures \n",
    "\n",
    "#we can ignore course_id since this is a unique row id, class_id and should be dropped for analysis, however for simplicity, not considered furthermore in analysis. "
   ]
  },
  {
   "cell_type": "code",
   "execution_count": null,
   "metadata": {
    "id": "IHIb2KMen90g"
   },
   "outputs": [],
   "source": [
    "udemy = udemy.dropna()\n",
    "\n",
    "#dropping any missing rows, however, believed that the dataset does not contain any missing characters "
   ]
  },
  {
   "cell_type": "markdown",
   "metadata": {
    "id": "ItEsNqdBoPul"
   },
   "source": [
    "course_id, course_title, and url should NOT be considered in the analysis, as they might skew the data analysis based on unique object values for the total number fo 3,678 courses."
   ]
  },
  {
   "cell_type": "markdown",
   "metadata": {
    "id": "5zI1vYg3oT5l"
   },
   "source": [
    "## 3.2. Exploratory Data Analysis\n",
    "\n",
    "### 3.2.1. EDA of Categorical Features\n",
    "\n",
    "We begin the EDA with looking at distribution of the important categorical features. We noticed that most of these columns are unbalanced, including \"is_paid\", \"level\", and \"subject\""
   ]
  },
  {
   "cell_type": "code",
   "execution_count": null,
   "metadata": {
    "colab": {
     "base_uri": "https://localhost:8080/"
    },
    "id": "67fs5IbcotkG",
    "outputId": "bb7276e4-3772-49f5-8c56-48d840f5cd8d"
   },
   "outputs": [
    {
     "name": "stdout",
     "output_type": "stream",
     "text": [
      "+-------------------+-----+--------------+\n",
      "|            Subject|count|As Percentage%|\n",
      "+-------------------+-----+--------------+\n",
      "|    Web Development| 1200|         32.63|\n",
      "|   Business Finance| 1195|         32.49|\n",
      "|Musical Instruments|  680|         18.49|\n",
      "|     Graphic Design|  603|         16.39|\n",
      "+-------------------+-----+--------------+\n",
      "\n"
     ]
    }
   ],
   "source": [
    "total = udemy.count() #have total number of records \n",
    "\n",
    "udemy.groupBy('Subject') \\\n",
    ".count() \\\n",
    ".withColumn('As Percentage%', F.round((F.col('count')/total)*100,2)) \\\n",
    ".orderBy('count', ascending=False) \\\n",
    ".show()\n"
   ]
  },
  {
   "cell_type": "code",
   "execution_count": null,
   "metadata": {
    "colab": {
     "base_uri": "https://localhost:8080/"
    },
    "id": "xLqarkaFpYCu",
    "outputId": "d6f807a9-e5eb-487c-c4d6-1d8060be8dd5"
   },
   "outputs": [
    {
     "name": "stdout",
     "output_type": "stream",
     "text": [
      "+------------------+-----+---------------+\n",
      "|             level|count|As Percentage %|\n",
      "+------------------+-----+---------------+\n",
      "|        All Levels| 1929|          52.45|\n",
      "|    Beginner Level| 1270|          34.53|\n",
      "|Intermediate Level|  421|          11.45|\n",
      "|      Expert Level|   58|           1.58|\n",
      "+------------------+-----+---------------+\n",
      "\n"
     ]
    }
   ],
   "source": [
    "udemy.groupBy('level') \\\n",
    ".count() \\\n",
    ".withColumn('As Percentage %', F.round((F.col('count')/total)*100,2)) \\\n",
    ".orderBy('count', ascending=False) \\\n",
    ".show()"
   ]
  },
  {
   "cell_type": "code",
   "execution_count": null,
   "metadata": {
    "colab": {
     "base_uri": "https://localhost:8080/",
     "height": 328
    },
    "id": "nu_M8Rubpab8",
    "outputId": "20890187-a7ca-459c-e074-1fa732a84433"
   },
   "outputs": [
    {
     "data": {
      "text/plain": [
       "Text(0, 0.5, 'counts')"
      ]
     },
     "execution_count": 24,
     "metadata": {},
     "output_type": "execute_result"
    },
    {
     "data": {
      "image/png": "[encoded data removed]",
      "text/plain": [
       "<Figure size 432x288 with 1 Axes>"
      ]
     },
     "metadata": {
      "needs_background": "light"
     },
     "output_type": "display_data"
    }
   ],
   "source": [
    "#distribution for free and paid \n",
    "udemy.groupBy('is_paid').count().toPandas().plot.bar()\n",
    "plt.xticks((0,1), ('paid','not paid'))\n",
    "plt.title(\"Distribution of free and paid\")\n",
    "plt.ylabel(\"counts\")"
   ]
  },
  {
   "cell_type": "code",
   "execution_count": null,
   "metadata": {
    "colab": {
     "base_uri": "https://localhost:8080/"
    },
    "id": "YkegaLB_qCm9",
    "outputId": "69669e6a-87be-4648-c06d-5b84dfae05a5"
   },
   "outputs": [
    {
     "name": "stdout",
     "output_type": "stream",
     "text": [
      "+-------+-----+-----------------+\n",
      "|is_paid|count|As percentage (%)|\n",
      "+-------+-----+-----------------+\n",
      "|   true| 3368|            91.57|\n",
      "|  false|  310|             8.43|\n",
      "+-------+-----+-----------------+\n",
      "\n"
     ]
    }
   ],
   "source": [
    "# exploring the average stats of paid vs.free \n",
    "\n",
    "udemy.groupBy('is_paid') \\\n",
    ".count() \\\n",
    ".withColumn('As percentage (%)', F.round((F.col('count')/total)*100,2)) \\\n",
    ".orderBy('count', ascending=False) \\\n",
    ".show()"
   ]
  },
  {
   "cell_type": "code",
   "execution_count": null,
   "metadata": {
    "colab": {
     "base_uri": "https://localhost:8080/",
     "height": 382
    },
    "id": "HhosqAKPpquQ",
    "outputId": "5e93ca3a-d142-4eae-a187-9f1a93a5dcbf"
   },
   "outputs": [
    {
     "data": {
      "text/plain": [
       "Text(0, 0.5, 'counts')"
      ]
     },
     "execution_count": 26,
     "metadata": {},
     "output_type": "execute_result"
    },
    {
     "data": {
      "image/png": "[encoded data removed]",
      "text/plain": [
       "<Figure size 432x288 with 1 Axes>"
      ]
     },
     "metadata": {
      "needs_background": "light"
     },
     "output_type": "display_data"
    }
   ],
   "source": [
    "#distribution of course levels\n",
    "udemy.groupBy('level').count().toPandas().plot.bar()\n",
    "plt.xticks((0, 1,2,3), ('not paid','is paid'))\n",
    "plt.xticks((0,1,2,3), ('Expert Levvel','Intermediate Level','All Levels','Begineer Level'))\n",
    "plt.title(\"Distribution of Course levels\")\n",
    "plt.ylabel(\"counts\")"
   ]
  },
  {
   "cell_type": "code",
   "execution_count": null,
   "metadata": {
    "colab": {
     "base_uri": "https://localhost:8080/",
     "height": 388
    },
    "id": "4s5hnsqjpyY0",
    "outputId": "922495c7-3bc6-4155-b212-7a2aa3afbbe6"
   },
   "outputs": [
    {
     "data": {
      "text/plain": [
       "Text(0, 0.5, 'counts')"
      ]
     },
     "execution_count": 27,
     "metadata": {},
     "output_type": "execute_result"
    },
    {
     "data": {
      "image/png": "[encoded data removed]",
      "text/plain": [
       "<Figure size 432x288 with 1 Axes>"
      ]
     },
     "metadata": {
      "needs_background": "light"
     },
     "output_type": "display_data"
    }
   ],
   "source": [
    "#distribution of course type\n",
    "udemy.groupBy('Subject').count().toPandas().plot.bar()\n",
    "plt.xticks((0,1, 2, 3), ('Web Development', 'Graphical Design', 'Business Finance', 'Musical Instruments'))\n",
    "plt.title(\"Course Type\")\n",
    "plt.ylabel(\"counts\")"
   ]
  },
  {
   "cell_type": "code",
   "execution_count": null,
   "metadata": {
    "colab": {
     "base_uri": "https://localhost:8080/"
    },
    "id": "IIp7uSC4p_Zx",
    "outputId": "19e7f5c7-4741-4982-f4ee-fc2183aae12e"
   },
   "outputs": [
    {
     "name": "stdout",
     "output_type": "stream",
     "text": [
      "+-------+-----+-----+\n",
      "|is_paid|price|count|\n",
      "+-------+-----+-----+\n",
      "|   true|   20|  830|\n",
      "|   true|   50|  468|\n",
      "|  false|    0|  310|\n",
      "|   true|  200|  295|\n",
      "|   true|   40|  217|\n",
      "|   true|   30|  166|\n",
      "|   true|   25|  154|\n",
      "|   true|   95|  152|\n",
      "|   true|  100|  133|\n",
      "|   true|  195|  127|\n",
      "|   true|   35|  116|\n",
      "|   true|  150|   88|\n",
      "|   true|   45|   83|\n",
      "|   true|   75|   81|\n",
      "|   true|   60|   75|\n",
      "|   true|  120|   37|\n",
      "|   true|   55|   35|\n",
      "|   true|   85|   31|\n",
      "|   true|   65|   30|\n",
      "|   true|  125|   30|\n",
      "+-------+-----+-----+\n",
      "only showing top 20 rows\n",
      "\n"
     ]
    }
   ],
   "source": [
    "udemy.groupBy('is_paid', 'price').count().sort(desc(\"count\")).show(n=20)"
   ]
  },
  {
   "cell_type": "code",
   "execution_count": null,
   "metadata": {
    "colab": {
     "base_uri": "https://localhost:8080/"
    },
    "id": "SkRSnELkqipe",
    "outputId": "ee365976-96ff-4e0c-9369-8191a0a08729"
   },
   "outputs": [
    {
     "name": "stdout",
     "output_type": "stream",
     "text": [
      "+--------------------+\n",
      "|avg(num_subscribers)|\n",
      "+--------------------+\n",
      "|   3197.150625339859|\n",
      "+--------------------+\n",
      "\n",
      "+-------+--------------------+\n",
      "|is_paid|avg(num_subscribers)|\n",
      "+-------+--------------------+\n",
      "|   true|   2429.808491686461|\n",
      "|  false|  11533.951612903225|\n",
      "+-------+--------------------+\n",
      "\n"
     ]
    }
   ],
   "source": [
    "# exploring the average stats of paid vs.free \n",
    "udemy.agg({'num_subscribers': 'mean'}).show()\n",
    "udemy.groupby('is_paid').agg({'num_subscribers': 'mean'}).show()"
   ]
  },
  {
   "cell_type": "markdown",
   "metadata": {
    "id": "jZtoKBq4q0dn"
   },
   "source": [
    "interesting that the average number of subscribers as not always associated with a paid course, the mean number of subscribers are subscribed to freee courses, how does this match to mean number of reviews "
   ]
  },
  {
   "cell_type": "code",
   "execution_count": null,
   "metadata": {
    "colab": {
     "base_uri": "https://localhost:8080/"
    },
    "id": "EignmtN-rArL",
    "outputId": "1713b5a2-4468-48bb-a4ba-e29550e4f850"
   },
   "outputs": [
    {
     "name": "stdout",
     "output_type": "stream",
     "text": [
      "+------------------+\n",
      "|  avg(num_reviews)|\n",
      "+------------------+\n",
      "|156.25910821098424|\n",
      "+------------------+\n",
      "\n",
      "+-------+------------------+\n",
      "|is_paid|  avg(num_reviews)|\n",
      "+-------+------------------+\n",
      "|   true|131.43794536817103|\n",
      "|  false| 425.9290322580645|\n",
      "+-------+------------------+\n",
      "\n"
     ]
    }
   ],
   "source": [
    "# exploring the average stats of paid vs.free \n",
    "udemy.agg({'num_reviews': 'mean'}).show()\n",
    "udemy.groupby('is_paid').agg({'num_reviews': 'mean'}).show()"
   ]
  },
  {
   "cell_type": "markdown",
   "metadata": {
    "id": "fySI-AKNrHoa"
   },
   "source": [
    "confirmed that when a course is not paid there in a increased number of reviews"
   ]
  },
  {
   "cell_type": "code",
   "execution_count": null,
   "metadata": {
    "colab": {
     "base_uri": "https://localhost:8080/"
    },
    "id": "FEfBsJ-hrezE",
    "outputId": "ccb14a65-078b-4e37-b747-280133d78fc4"
   },
   "outputs": [
    {
     "name": "stdout",
     "output_type": "stream",
     "text": [
      "+-------+-----+-----+\n",
      "|is_paid|price|count|\n",
      "+-------+-----+-----+\n",
      "|   true|   20|  830|\n",
      "|   true|   50|  468|\n",
      "|  false|    0|  310|\n",
      "|   true|  200|  295|\n",
      "|   true|   40|  217|\n",
      "|   true|   30|  166|\n",
      "|   true|   25|  154|\n",
      "|   true|   95|  152|\n",
      "|   true|  100|  133|\n",
      "|   true|  195|  127|\n",
      "|   true|   35|  116|\n",
      "|   true|  150|   88|\n",
      "|   true|   45|   83|\n",
      "|   true|   75|   81|\n",
      "|   true|   60|   75|\n",
      "|   true|  120|   37|\n",
      "|   true|   55|   35|\n",
      "|   true|   85|   31|\n",
      "|   true|   65|   30|\n",
      "|   true|  125|   30|\n",
      "+-------+-----+-----+\n",
      "only showing top 20 rows\n",
      "\n"
     ]
    }
   ],
   "source": [
    "udemy.groupBy('is_paid', 'price').count().sort(desc(\"count\")).show(n=20)"
   ]
  },
  {
   "cell_type": "code",
   "execution_count": null,
   "metadata": {
    "colab": {
     "base_uri": "https://localhost:8080/",
     "height": 298
    },
    "id": "6eFh8oepqzlJ",
    "outputId": "8e512a48-3614-40bc-94a6-d68d103a64e7"
   },
   "outputs": [
    {
     "data": {
      "text/plain": [
       "Text(0.5, 1.0, 'Number of Paid and Unpaid courses per price')"
      ]
     },
     "execution_count": 32,
     "metadata": {},
     "output_type": "execute_result"
    },
    {
     "data": {
      "image/png": "[encoded data removed]",
      "text/plain": [
       "<Figure size 432x288 with 1 Axes>"
      ]
     },
     "metadata": {
      "needs_background": "light"
     },
     "output_type": "display_data"
    }
   ],
   "source": [
    "udemy.groupBy('is_paid', 'price').count().toPandas().plot.line()\n",
    "plt.title(\"Number of Paid and Unpaid courses per price\")\n",
    "#udemy.groupBy('Subject').count().toPandas().plot.bar()"
   ]
  },
  {
   "cell_type": "markdown",
   "metadata": {
    "id": "bSOGVsXVsDvp"
   },
   "source": [
    "The relationship between price and number of courses at that price is rather surprising. One may assume as the price rises, fewer people will be willing to pay, but this does not seems to be the case with udemy classes. The subscirber count seems to increase with the price."
   ]
  },
  {
   "cell_type": "markdown",
   "metadata": {
    "id": "iDRL1XimsJIM"
   },
   "source": [
    "### 3.2.2. EDA of Numerical Features\n",
    "\n",
    "\n",
    "Next, we look at the distribution of numerical features. Most of these distributions are skewed to the right.\n",
    "\n",
    "The correlation plots show that there are some features that are highly correlated with one another, such as num_reviews and num_subscribers (corr = 0.65) and num_lectures and content_duration (corr = 0.8). In the machine learning task, only one feature from each pair will be used."
   ]
  },
  {
   "cell_type": "code",
   "execution_count": null,
   "metadata": {
    "colab": {
     "base_uri": "https://localhost:8080/",
     "height": 316
    },
    "id": "KDNMsvK0toxK",
    "outputId": "dc20a029-34ab-4027-bb9c-f2ac62a21406"
   },
   "outputs": [
    {
     "data": {
      "text/plain": [
       "array([<matplotlib.axes._subplots.AxesSubplot object at 0x7ff7ff9eaa90>],\n",
       "      dtype=object)"
      ]
     },
     "execution_count": 33,
     "metadata": {},
     "output_type": "execute_result"
    },
    {
     "data": {
      "image/png": "[encoded data removed]",
      "text/plain": [
       "<Figure size 432x288 with 1 Axes>"
      ]
     },
     "metadata": {
      "needs_background": "light"
     },
     "output_type": "display_data"
    }
   ],
   "source": [
    "mpl.hist(udemy, \"price\", color=\"#3379FF\")"
   ]
  },
  {
   "cell_type": "code",
   "execution_count": null,
   "metadata": {
    "colab": {
     "base_uri": "https://localhost:8080/",
     "height": 316
    },
    "id": "B9rVlxt7ty6u",
    "outputId": "794d131d-5747-4f69-9eef-781ec5ba3403"
   },
   "outputs": [
    {
     "data": {
      "text/plain": [
       "array([<matplotlib.axes._subplots.AxesSubplot object at 0x7ff7ffa1c450>],\n",
       "      dtype=object)"
      ]
     },
     "execution_count": 34,
     "metadata": {},
     "output_type": "execute_result"
    },
    {
     "data": {
      "image/png": "[encoded data removed]",
      "text/plain": [
       "<Figure size 432x288 with 1 Axes>"
      ]
     },
     "metadata": {
      "needs_background": "light"
     },
     "output_type": "display_data"
    }
   ],
   "source": [
    "mpl.hist(udemy,\"num_subscribers\", color=\"#3379FF\")"
   ]
  },
  {
   "cell_type": "code",
   "execution_count": null,
   "metadata": {
    "colab": {
     "base_uri": "https://localhost:8080/",
     "height": 316
    },
    "id": "lP3YEzHxvmF_",
    "outputId": "b440b090-3a2f-43f3-8c14-a5f26bbb6beb"
   },
   "outputs": [
    {
     "data": {
      "text/plain": [
       "array([<matplotlib.axes._subplots.AxesSubplot object at 0x7ff7ff7c4610>],\n",
       "      dtype=object)"
      ]
     },
     "execution_count": 35,
     "metadata": {},
     "output_type": "execute_result"
    },
    {
     "data": {
      "image/png": "[encoded data removed]",
      "text/plain": [
       "<Figure size 432x288 with 1 Axes>"
      ]
     },
     "metadata": {
      "needs_background": "light"
     },
     "output_type": "display_data"
    }
   ],
   "source": [
    "mpl.hist(udemy, \"num_reviews\", color=\"#3379FF\")"
   ]
  },
  {
   "cell_type": "code",
   "execution_count": null,
   "metadata": {
    "colab": {
     "base_uri": "https://localhost:8080/",
     "height": 316
    },
    "id": "YQuhsjQTvps_",
    "outputId": "1b40a9f9-49a0-4c72-a3c3-aebc39570f7e"
   },
   "outputs": [
    {
     "data": {
      "text/plain": [
       "array([<matplotlib.axes._subplots.AxesSubplot object at 0x7ff800009ad0>],\n",
       "      dtype=object)"
      ]
     },
     "execution_count": 36,
     "metadata": {},
     "output_type": "execute_result"
    },
    {
     "data": {
      "image/png": "[encoded data removed]",
      "text/plain": [
       "<Figure size 432x288 with 1 Axes>"
      ]
     },
     "metadata": {
      "needs_background": "light"
     },
     "output_type": "display_data"
    }
   ],
   "source": [
    "mpl.hist(udemy, \"num_lectures\", color=\"#3379FF\")"
   ]
  },
  {
   "cell_type": "markdown",
   "metadata": {
    "id": "YDYB27SZ0-h5"
   },
   "source": [
    "## 3.3. Addressing Potential Questions about Dataset\n",
    "\n",
    "__There are multiple data analytics questions that can be asked of this dataset, such as:__ \n",
    "1. What are the most popular or reviewed courses on Udemy?\n",
    "2. What are the best free and paid courses by subject?\n",
    "3. How are different characteristics of a course related? \n",
    "4. How are different courses related to one another? \n",
    "5. Which courses were the most popular in the year they were published? \n",
    "\n",
    "We answer some of the questions in our EDA.\n",
    "- What are the most popular or viewed courses on Udemy?"
   ]
  },
  {
   "cell_type": "code",
   "execution_count": null,
   "metadata": {
    "colab": {
     "base_uri": "https://localhost:8080/"
    },
    "id": "yT5Q_hFG1Ccm",
    "outputId": "a4016491-d683-4a1c-d22a-9fd89148839f"
   },
   "outputs": [
    {
     "name": "stdout",
     "output_type": "stream",
     "text": [
      "The most poopular courses on udemy are: \n"
     ]
    },
    {
     "data": {
      "text/plain": [
       "[Row(course_id=41295, course_title='Learn HTML5 Programming From Scratch', url='https://www.udemy.com/learn-html5-programming-from-scratch/', is_paid=False, price=0, num_subscribers=268923, num_reviews=8629, num_lectures=45, level='All Levels', content_duration='10.5', published_timestamp=datetime.datetime(2013, 2, 14, 7, 3, 41), subject='Web Development'),\n",
       " Row(course_id=59014, course_title='Coding for Entrepreneurs Basic', url='https://www.udemy.com/coding-for-entrepreneurs-basic/', is_paid=False, price=0, num_subscribers=161029, num_reviews=279, num_lectures=27, level='Beginner Level', content_duration='3.5', published_timestamp=datetime.datetime(2013, 6, 9, 15, 51, 55), subject='Web Development'),\n",
       " Row(course_id=625204, course_title='The Web Developer Bootcamp', url='https://www.udemy.com/the-web-developer-bootcamp/', is_paid=True, price=200, num_subscribers=121584, num_reviews=27445, num_lectures=342, level='All Levels', content_duration='43.0', published_timestamp=datetime.datetime(2015, 11, 2, 21, 13, 27), subject='Web Development'),\n",
       " Row(course_id=173548, course_title='Build Your First Website in 1 Week with HTML5 and CSS3', url='https://www.udemy.com/build-your-first-website-in-1-week/', is_paid=False, price=0, num_subscribers=120291, num_reviews=5924, num_lectures=30, level='Beginner Level', content_duration='3.0', published_timestamp=datetime.datetime(2014, 4, 8, 16, 21, 30), subject='Web Development'),\n",
       " Row(course_id=764164, course_title='The Complete Web Developer Course 2.0', url='https://www.udemy.com/the-complete-web-developer-course-2/', is_paid=True, price=200, num_subscribers=114512, num_reviews=22412, num_lectures=304, level='All Levels', content_duration='30.5', published_timestamp=datetime.datetime(2016, 3, 8, 22, 28, 36), subject='Web Development')]"
      ]
     },
     "execution_count": 37,
     "metadata": {},
     "output_type": "execute_result"
    }
   ],
   "source": [
    "popular = udemy.sort(udemy.num_subscribers.desc()).take(5)\n",
    "print(\"The most poopular courses on udemy are: \")\n",
    "popular"
   ]
  },
  {
   "cell_type": "code",
   "execution_count": null,
   "metadata": {
    "colab": {
     "base_uri": "https://localhost:8080/"
    },
    "id": "81rkv2ge1Gg5",
    "outputId": "d0c4d6c1-e598-45be-9d0b-c7bd35417bb0"
   },
   "outputs": [
    {
     "name": "stdout",
     "output_type": "stream",
     "text": [
      "The most reviewed courses on udemy are: \n"
     ]
    },
    {
     "data": {
      "text/plain": [
       "[Row(course_id=625204, course_title='The Web Developer Bootcamp', url='https://www.udemy.com/the-web-developer-bootcamp/', is_paid=True, price=200, num_subscribers=121584, num_reviews=27445, num_lectures=342, level='All Levels', content_duration='43.0', published_timestamp=datetime.datetime(2015, 11, 2, 21, 13, 27), subject='Web Development'),\n",
       " Row(course_id=764164, course_title='The Complete Web Developer Course 2.0', url='https://www.udemy.com/the-complete-web-developer-course-2/', is_paid=True, price=200, num_subscribers=114512, num_reviews=22412, num_lectures=304, level='All Levels', content_duration='30.5', published_timestamp=datetime.datetime(2016, 3, 8, 22, 28, 36), subject='Web Development'),\n",
       " Row(course_id=756150, course_title='Angular 4 (formerly Angular 2) - The Complete Guide', url='https://www.udemy.com/the-complete-guide-to-angular-2/', is_paid=True, price=190, num_subscribers=73783, num_reviews=19649, num_lectures=329, level='All Levels', content_duration='22.0', published_timestamp=datetime.datetime(2016, 2, 11, 7, 29, 29), subject='Web Development'),\n",
       " Row(course_id=364426, course_title='JavaScript: Understanding the Weird Parts', url='https://www.udemy.com/understand-javascript/', is_paid=True, price=175, num_subscribers=79612, num_reviews=16976, num_lectures=85, level='All Levels', content_duration='11.5', published_timestamp=datetime.datetime(2015, 3, 12, 23, 19, 54), subject='Web Development'),\n",
       " Row(course_id=705264, course_title='Modern React with Redux', url='https://www.udemy.com/react-redux/', is_paid=True, price=180, num_subscribers=50815, num_reviews=15117, num_lectures=150, level='All Levels', content_duration='26.5', published_timestamp=datetime.datetime(2015, 12, 28, 19, 20, 21), subject='Web Development')]"
      ]
     },
     "execution_count": 38,
     "metadata": {},
     "output_type": "execute_result"
    }
   ],
   "source": [
    "most_reviewed = udemy.sort(udemy.num_reviews.desc()).take(5)\n",
    "print(\"The most reviewed courses on udemy are: \")\n",
    "most_reviewed"
   ]
  },
  {
   "cell_type": "markdown",
   "metadata": {
    "id": "JvcEwRy6mfd0"
   },
   "source": [
    "# 4. Tasks and Applied Algorithms"
   ]
  },
  {
   "cell_type": "code",
   "execution_count": null,
   "metadata": {
    "id": "92vL07ES9Jab"
   },
   "outputs": [],
   "source": [
    "udemy = udemy.withColumn(\"is_paid\",udemy.is_paid.cast(FloatType()))\n",
    "udemy = udemy.withColumn(\"price\",udemy.is_paid.cast(FloatType()))\n",
    "udemy = udemy.withColumn(\"content_duration\",udemy.is_paid.cast(FloatType()))"
   ]
  },
  {
   "cell_type": "code",
   "execution_count": null,
   "metadata": {
    "colab": {
     "base_uri": "https://localhost:8080/"
    },
    "id": "PwKj_Gb94v6y",
    "outputId": "b23c35e4-c695-47a0-e848-41654de78a62"
   },
   "outputs": [
    {
     "name": "stdout",
     "output_type": "stream",
     "text": [
      "+---------+--------------------+--------------------+-------+-----+---------------+-----------+------------+------------------+----------------+-------------------+----------------+\n",
      "|course_id|        course_title|                 url|is_paid|price|num_subscribers|num_reviews|num_lectures|             level|content_duration|published_timestamp|         subject|\n",
      "+---------+--------------------+--------------------+-------+-----+---------------+-----------+------------+------------------+----------------+-------------------+----------------+\n",
      "|  1070968|Ultimate Investme...|https://www.udemy...|    1.0|  1.0|           2147|         23|          51|        All Levels|             1.0|2017-01-18 20:58:58|Business Finance|\n",
      "|  1113822|Complete GST Cour...|https://www.udemy...|    1.0|  1.0|           2792|        923|         274|        All Levels|             1.0|2017-03-09 16:34:20|Business Finance|\n",
      "|  1006314|Financial Modelin...|https://www.udemy...|    1.0|  1.0|           2174|         74|          51|Intermediate Level|             1.0|2016-12-19 19:26:30|Business Finance|\n",
      "|  1210588|Beginner to Pro -...|https://www.udemy...|    1.0|  1.0|           2451|         11|          36|        All Levels|             1.0|2017-05-30 20:07:24|Business Finance|\n",
      "|  1011058|How To Maximize Y...|https://www.udemy...|    1.0|  1.0|           1276|         45|          26|Intermediate Level|             1.0|2016-12-13 14:57:18|Business Finance|\n",
      "|   192870|Trading Penny Sto...|https://www.udemy...|    1.0|  1.0|           9221|        138|          25|        All Levels|             1.0|2014-05-02 15:13:30|Business Finance|\n",
      "|   739964|Investing And Tra...|https://www.udemy...|    1.0|  1.0|           1540|        178|          26|    Beginner Level|             1.0|2016-02-21 18:23:12|Business Finance|\n",
      "|   403100|Trading Stock Cha...|https://www.udemy...|    1.0|  1.0|           2917|        148|          23|        All Levels|             1.0|2015-01-30 22:13:03|Business Finance|\n",
      "|   476268|Options Trading 3...|https://www.udemy...|    1.0|  1.0|           5172|         34|          38|      Expert Level|             1.0|2015-05-28 00:14:03|Business Finance|\n",
      "|  1167710|The Only Investme...|https://www.udemy...|    1.0|  1.0|            827|         14|          15|        All Levels|             1.0|2017-04-18 18:13:32|Business Finance|\n",
      "|   592338|Forex Trading Sec...|https://www.udemy...|    1.0|  1.0|           4284|         93|          76|        All Levels|             1.0|2015-09-11 16:47:02|Business Finance|\n",
      "|   975046|Trading Options W...|https://www.udemy...|    1.0|  1.0|           1380|         42|          17|        All Levels|             1.0|2016-10-18 22:52:31|Business Finance|\n",
      "|   742602|Financial Managem...|https://www.udemy...|    1.0|  1.0|           3607|         21|          19|        All Levels|             1.0|2016-02-03 18:04:01|Business Finance|\n",
      "|   794151|Forex Trading Cou...|https://www.udemy...|    1.0|  1.0|           4061|         52|          16|        All Levels|             1.0|2016-03-16 15:40:19|Business Finance|\n",
      "|  1196544|Python Algo Tradi...|https://www.udemy...|    1.0|  1.0|            294|         19|          42|        All Levels|             1.0|2017-04-28 16:41:44|Business Finance|\n",
      "|   504036|Short Selling: Le...|https://www.udemy...|    1.0|  1.0|           2276|        106|          19|Intermediate Level|             1.0|2015-06-22 21:18:35|Business Finance|\n",
      "|   719698|Basic Technical A...|https://www.udemy...|    1.0|  1.0|           4919|         79|          16|    Beginner Level|             1.0|2016-01-08 17:21:26|Business Finance|\n",
      "|   564966|The Complete Char...|https://www.udemy...|    1.0|  1.0|           2666|        115|          52|        All Levels|             1.0|2015-08-10 21:07:35|Business Finance|\n",
      "|   606928|7 Deadly Mistakes...|https://www.udemy...|    1.0|  1.0|           5354|         24|          23|        All Levels|             1.0|2015-09-21 18:10:34|Business Finance|\n",
      "|    58977|Financial Stateme...|https://www.udemy...|    1.0|  1.0|           8095|        249|          12|    Beginner Level|             1.0|2013-06-09 00:21:26|Business Finance|\n",
      "+---------+--------------------+--------------------+-------+-----+---------------+-----------+------------+------------------+----------------+-------------------+----------------+\n",
      "only showing top 20 rows\n",
      "\n"
     ]
    }
   ],
   "source": [
    "udemy.show()"
   ]
  },
  {
   "cell_type": "markdown",
   "metadata": {
    "id": "a_NgeZA65PXs"
   },
   "source": [
    "## Using some course features to predict weather the course is free or paid\n",
    "We will use the subject, num_subscribers, num_reviews, num_lectures and level attributes to predict whether the course is paid or free.\n",
    "\n",
    "We will use the following supervised classification algorithms to experiment with the data - \n",
    "1.   Logistic Regression\n",
    "2.   Decision Tree\n",
    "3.   Support Vector Machines\n",
    "\n"
   ]
  },
  {
   "cell_type": "markdown",
   "metadata": {
    "id": "tV3oVxr87Uh5"
   },
   "source": [
    "Constructing Feature Vectors"
   ]
  },
  {
   "cell_type": "code",
   "execution_count": null,
   "metadata": {
    "colab": {
     "base_uri": "https://localhost:8080/"
    },
    "id": "siPhNg8r4_wW",
    "outputId": "a40230d4-7bd8-4c28-a59e-78f86dc9c6b0"
   },
   "outputs": [
    {
     "name": "stdout",
     "output_type": "stream",
     "text": [
      "+--------------------+-------+\n",
      "|            features|is_paid|\n",
      "+--------------------+-------+\n",
      "|[406.0,10.0,25.0,...|    1.0|\n",
      "|[10338.0,52.0,41....|    1.0|\n",
      "|[817.0,6.0,32.0,0...|    1.0|\n",
      "|[14260.0,44.0,43....|    1.0|\n",
      "|[454.0,52.0,39.0,...|    1.0|\n",
      "|[43.0,0.0,25.0,1....|    1.0|\n",
      "|[469.0,38.0,30.0,...|    1.0|\n",
      "|[543.0,14.0,11.0,...|    1.0|\n",
      "|[586.0,54.0,56.0,...|    1.0|\n",
      "|[152.0,7.0,30.0,0...|    1.0|\n",
      "+--------------------+-------+\n",
      "only showing top 10 rows\n",
      "\n"
     ]
    }
   ],
   "source": [
    "cols = [\"level\", \"subject\"]\n",
    "stages = [StringIndexer(inputCol=column, outputCol=column+\"_idx\").setHandleInvalid(\"skip\").fit(udemy) for column in cols]\n",
    "\n",
    "# Building Feature \n",
    "feature_cols = [\"num_subscribers\", \"num_reviews\", \"num_lectures\", \"level_idx\", \"subject_idx\"]\n",
    "stages.append(VectorAssembler(inputCols=feature_cols, outputCol='features'))\n",
    "\n",
    "# Building Pipeline\n",
    "pipeline = Pipeline(stages=stages)\n",
    "udemy_trx = pipeline.fit(udemy).transform(udemy)\n",
    "\n",
    "# Select Feature Vector Column And Target Claim Column\n",
    "udemy_trx = udemy_trx.select(\"features\", \"is_paid\")\n",
    "udemy_trx = udemy_trx.orderBy(rand())\n",
    "udemy_trx.show(10)"
   ]
  },
  {
   "cell_type": "markdown",
   "metadata": {
    "id": "5P9Q-i0w_fcT"
   },
   "source": [
    "Splitting data into train and test"
   ]
  },
  {
   "cell_type": "code",
   "execution_count": null,
   "metadata": {
    "id": "j9Wop_09_W2v"
   },
   "outputs": [],
   "source": [
    "train, test = udemy_trx.randomSplit([0.8, 0.2], seed=12345)"
   ]
  },
  {
   "cell_type": "markdown",
   "metadata": {
    "id": "BhMyCd4n_tef"
   },
   "source": [
    "**Logistic Regression**"
   ]
  },
  {
   "cell_type": "code",
   "execution_count": null,
   "metadata": {
    "colab": {
     "base_uri": "https://localhost:8080/"
    },
    "id": "IM3UZ42I_lYW",
    "outputId": "2c12f04b-69e7-4eff-e15b-c625ab9ff2b8"
   },
   "outputs": [
    {
     "name": "stdout",
     "output_type": "stream",
     "text": [
      "Coefficients: [-0.00012719015182283193,0.00028372811266081597,0.04398545556152154,-0.1501483189964956,0.14789343701686922]\n",
      "Intercept: 1.61788561407678\n"
     ]
    }
   ],
   "source": [
    "from pyspark.ml.classification import LogisticRegression\n",
    "\n",
    "log_reg = LogisticRegression(featuresCol = 'features', labelCol='is_paid')\n",
    "log_reg_model = log_reg.fit(train)\n",
    "print(\"Coefficients: \" + str(log_reg_model.coefficients))\n",
    "print(\"Intercept: \" + str(log_reg_model.intercept))"
   ]
  },
  {
   "cell_type": "code",
   "execution_count": null,
   "metadata": {
    "id": "x2dwaRUO_bS2"
   },
   "outputs": [],
   "source": [
    "trainingSummary = log_reg_model.summary"
   ]
  },
  {
   "cell_type": "code",
   "execution_count": null,
   "metadata": {
    "colab": {
     "base_uri": "https://localhost:8080/",
     "height": 206
    },
    "id": "bE4Fs6-f_9CF",
    "outputId": "e109e163-05de-434e-ead2-dcadc00649e2"
   },
   "outputs": [
    {
     "data": {
      "text/html": [
       "\n",
       "  <div id=\"df-0559ff58-f292-429b-90c9-d238f7bbc55e\">\n",
       "    <div class=\"colab-df-container\">\n",
       "      <div>\n",
       "<style scoped>\n",
       "    .dataframe tbody tr th:only-of-type {\n",
       "        vertical-align: middle;\n",
       "    }\n",
       "\n",
       "    .dataframe tbody tr th {\n",
       "        vertical-align: top;\n",
       "    }\n",
       "\n",
       "    .dataframe thead th {\n",
       "        text-align: right;\n",
       "    }\n",
       "</style>\n",
       "<table border=\"1\" class=\"dataframe\">\n",
       "  <thead>\n",
       "    <tr style=\"text-align: right;\">\n",
       "      <th></th>\n",
       "      <th>is_paid</th>\n",
       "      <th>features</th>\n",
       "      <th>rawPrediction</th>\n",
       "      <th>prediction</th>\n",
       "      <th>probability</th>\n",
       "    </tr>\n",
       "  </thead>\n",
       "  <tbody>\n",
       "    <tr>\n",
       "      <th>0</th>\n",
       "      <td>1.0</td>\n",
       "      <td>(0.0, 0.0, 6.0, 0.0, 1.0)</td>\n",
       "      <td>[-2.0296917844627784, 2.0296917844627784]</td>\n",
       "      <td>1.0</td>\n",
       "      <td>[0.11612055251180435, 0.8838794474881957]</td>\n",
       "    </tr>\n",
       "    <tr>\n",
       "      <th>1</th>\n",
       "      <td>1.0</td>\n",
       "      <td>(0.0, 0.0, 20.0, 0.0, 1.0)</td>\n",
       "      <td>[-2.64548816232408, 2.64548816232408]</td>\n",
       "      <td>1.0</td>\n",
       "      <td>[0.06626763930716972, 0.9337323606928303]</td>\n",
       "    </tr>\n",
       "    <tr>\n",
       "      <th>2</th>\n",
       "      <td>1.0</td>\n",
       "      <td>(0.0, 0.0, 20.0, 0.0, 1.0)</td>\n",
       "      <td>[-2.64548816232408, 2.64548816232408]</td>\n",
       "      <td>1.0</td>\n",
       "      <td>[0.06626763930716972, 0.9337323606928303]</td>\n",
       "    </tr>\n",
       "    <tr>\n",
       "      <th>3</th>\n",
       "      <td>1.0</td>\n",
       "      <td>(0.0, 0.0, 0.0, 0.0, 1.0)</td>\n",
       "      <td>[-1.7657790510936493, 1.7657790510936493]</td>\n",
       "      <td>1.0</td>\n",
       "      <td>[0.14606803087474768, 0.8539319691252523]</td>\n",
       "    </tr>\n",
       "    <tr>\n",
       "      <th>4</th>\n",
       "      <td>1.0</td>\n",
       "      <td>[0.0, 0.0, 7.0, 1.0, 1.0]</td>\n",
       "      <td>[-1.9235289210278044, 1.9235289210278044]</td>\n",
       "      <td>1.0</td>\n",
       "      <td>[0.12746856231651926, 0.8725314376834807]</td>\n",
       "    </tr>\n",
       "  </tbody>\n",
       "</table>\n",
       "</div>\n",
       "      <button class=\"colab-df-convert\" onclick=\"convertToInteractive('df-0559ff58-f292-429b-90c9-d238f7bbc55e')\"\n",
       "              title=\"Convert this dataframe to an interactive table.\"\n",
       "              style=\"display:none;\">\n",
       "        \n",
       "  <svg xmlns=\"http://www.w3.org/2000/svg\" height=\"24px\"viewBox=\"0 0 24 24\"\n",
       "       width=\"24px\">\n",
       "    <path d=\"M0 0h24v24H0V0z\" fill=\"none\"/>\n",
       "    <path d=\"M18.56 5.44l.94 2.06.94-2.06 2.06-.94-2.06-.94-.94-2.06-.94 2.06-2.06.94zm-11 1L8.5 8.5l.94-2.06 2.06-.94-2.06-.94L8.5 2.5l-.94 2.06-2.06.94zm10 10l.94 2.06.94-2.06 2.06-.94-2.06-.94-.94-2.06-.94 2.06-2.06.94z\"/><path d=\"M17.41 7.96l-1.37-1.37c-.4-.4-.92-.59-1.43-.59-.52 0-1.04.2-1.43.59L10.3 9.45l-7.72 7.72c-.78.78-.78 2.05 0 2.83L4 21.41c.39.39.9.59 1.41.59.51 0 1.02-.2 1.41-.59l7.78-7.78 2.81-2.81c.8-.78.8-2.07 0-2.86zM5.41 20L4 18.59l7.72-7.72 1.47 1.35L5.41 20z\"/>\n",
       "  </svg>\n",
       "      </button>\n",
       "      \n",
       "  <style>\n",
       "    .colab-df-container {\n",
       "      display:flex;\n",
       "      flex-wrap:wrap;\n",
       "      gap: 12px;\n",
       "    }\n",
       "\n",
       "    .colab-df-convert {\n",
       "      background-color: #E8F0FE;\n",
       "      border: none;\n",
       "      border-radius: 50%;\n",
       "      cursor: pointer;\n",
       "      display: none;\n",
       "      fill: #1967D2;\n",
       "      height: 32px;\n",
       "      padding: 0 0 0 0;\n",
       "      width: 32px;\n",
       "    }\n",
       "\n",
       "    .colab-df-convert:hover {\n",
       "      background-color: #E2EBFA;\n",
       "      box-shadow: 0px 1px 2px rgba(60, 64, 67, 0.3), 0px 1px 3px 1px rgba(60, 64, 67, 0.15);\n",
       "      fill: #174EA6;\n",
       "    }\n",
       "\n",
       "    [theme=dark] .colab-df-convert {\n",
       "      background-color: #3B4455;\n",
       "      fill: #D2E3FC;\n",
       "    }\n",
       "\n",
       "    [theme=dark] .colab-df-convert:hover {\n",
       "      background-color: #434B5C;\n",
       "      box-shadow: 0px 1px 3px 1px rgba(0, 0, 0, 0.15);\n",
       "      filter: drop-shadow(0px 1px 2px rgba(0, 0, 0, 0.3));\n",
       "      fill: #FFFFFF;\n",
       "    }\n",
       "  </style>\n",
       "\n",
       "      <script>\n",
       "        const buttonEl =\n",
       "          document.querySelector('#df-0559ff58-f292-429b-90c9-d238f7bbc55e button.colab-df-convert');\n",
       "        buttonEl.style.display =\n",
       "          google.colab.kernel.accessAllowed ? 'block' : 'none';\n",
       "\n",
       "        async function convertToInteractive(key) {\n",
       "          const element = document.querySelector('#df-0559ff58-f292-429b-90c9-d238f7bbc55e');\n",
       "          const dataTable =\n",
       "            await google.colab.kernel.invokeFunction('convertToInteractive',\n",
       "                                                     [key], {});\n",
       "          if (!dataTable) return;\n",
       "\n",
       "          const docLinkHtml = 'Like what you see? Visit the ' +\n",
       "            '<a target=\"_blank\" href=https://colab.research.google.com/notebooks/data_table.ipynb>data table notebook</a>'\n",
       "            + ' to learn more about interactive tables.';\n",
       "          element.innerHTML = '';\n",
       "          dataTable['output_type'] = 'display_data';\n",
       "          await google.colab.output.renderOutput(dataTable, element);\n",
       "          const docLink = document.createElement('div');\n",
       "          docLink.innerHTML = docLinkHtml;\n",
       "          element.appendChild(docLink);\n",
       "        }\n",
       "      </script>\n",
       "    </div>\n",
       "  </div>\n",
       "  "
      ],
      "text/plain": [
       "   is_paid  ...                                probability\n",
       "0      1.0  ...  [0.11612055251180435, 0.8838794474881957]\n",
       "1      1.0  ...  [0.06626763930716972, 0.9337323606928303]\n",
       "2      1.0  ...  [0.06626763930716972, 0.9337323606928303]\n",
       "3      1.0  ...  [0.14606803087474768, 0.8539319691252523]\n",
       "4      1.0  ...  [0.12746856231651926, 0.8725314376834807]\n",
       "\n",
       "[5 rows x 5 columns]"
      ]
     },
     "execution_count": 114,
     "metadata": {},
     "output_type": "execute_result"
    }
   ],
   "source": [
    "predictions = log_reg_model.transform(test)\n",
    "predictions.select('is_paid', 'features', 'rawPrediction', 'prediction', 'probability').toPandas().head(5)"
   ]
  },
  {
   "cell_type": "code",
   "execution_count": null,
   "metadata": {
    "colab": {
     "base_uri": "https://localhost:8080/"
    },
    "id": "oAMfI3A9AD9a",
    "outputId": "78d9c557-db0a-4cb4-d51b-136faa91000d"
   },
   "outputs": [
    {
     "name": "stderr",
     "output_type": "stream",
     "text": [
      "/usr/local/lib/python3.7/dist-packages/pyspark/sql/context.py:127: FutureWarning: Deprecated in 3.0.0. Use SparkSession.builder.getOrCreate() instead.\n",
      "  FutureWarning\n"
     ]
    },
    {
     "name": "stdout",
     "output_type": "stream",
     "text": [
      "Summary Stats\n",
      "Precision = 0.9353932584269663\n",
      "Recall = 0.9940298507462687\n",
      "F1 Score = 0.9638205499276411\n"
     ]
    }
   ],
   "source": [
    "# Metrics For Logistic Regression\n",
    "predictionAndLabels = predictions.rdd.map(lambda rec:(rec.prediction, rec.is_paid))\n",
    "metrics = MulticlassMetrics(predictionAndLabels)\n",
    "precision = metrics.precision(1.0)\n",
    "recall = metrics.recall(1.0)\n",
    "f1Score = metrics.fMeasure(1.0)\n",
    "print(\"Summary Stats\")\n",
    "print(\"Precision = %s\" % precision)\n",
    "print(\"Recall = %s\" % recall)\n",
    "print(\"F1 Score = %s\" % f1Score)"
   ]
  },
  {
   "cell_type": "markdown",
   "metadata": {
    "id": "Ch3lA3pHB4U2"
   },
   "source": [
    "**Decision Tree**"
   ]
  },
  {
   "cell_type": "code",
   "execution_count": null,
   "metadata": {
    "id": "FCMor8eoAMnm"
   },
   "outputs": [],
   "source": [
    "from pyspark.ml.classification import DecisionTreeClassifier\n",
    "dec_tree = DecisionTreeClassifier(featuresCol='features', labelCol='is_paid', impurity='gini')\n",
    "dec_tree_model = dec_tree.fit(train)"
   ]
  },
  {
   "cell_type": "code",
   "execution_count": null,
   "metadata": {
    "colab": {
     "base_uri": "https://localhost:8080/"
    },
    "id": "30y1SU24_XRP",
    "outputId": "fa832121-bf17-4216-a944-ea716e54287f"
   },
   "outputs": [
    {
     "name": "stdout",
     "output_type": "stream",
     "text": [
      "DecisionTreeClassificationModel: uid=DecisionTreeClassifier_56625d4283bf, depth=5, numNodes=31, numClasses=2, numFeatures=5\n"
     ]
    }
   ],
   "source": [
    "print(dec_tree_model)\n",
    "\n",
    "#no summary "
   ]
  },
  {
   "cell_type": "code",
   "execution_count": null,
   "metadata": {
    "colab": {
     "base_uri": "https://localhost:8080/",
     "height": 206
    },
    "id": "vT9Mly27C5pQ",
    "outputId": "5af61141-d0a4-4a78-b535-4ff15b328b67"
   },
   "outputs": [
    {
     "data": {
      "text/html": [
       "\n",
       "  <div id=\"df-fc537edb-40d5-494a-a64e-678df2d30535\">\n",
       "    <div class=\"colab-df-container\">\n",
       "      <div>\n",
       "<style scoped>\n",
       "    .dataframe tbody tr th:only-of-type {\n",
       "        vertical-align: middle;\n",
       "    }\n",
       "\n",
       "    .dataframe tbody tr th {\n",
       "        vertical-align: top;\n",
       "    }\n",
       "\n",
       "    .dataframe thead th {\n",
       "        text-align: right;\n",
       "    }\n",
       "</style>\n",
       "<table border=\"1\" class=\"dataframe\">\n",
       "  <thead>\n",
       "    <tr style=\"text-align: right;\">\n",
       "      <th></th>\n",
       "      <th>is_paid</th>\n",
       "      <th>features</th>\n",
       "      <th>rawPrediction</th>\n",
       "      <th>prediction</th>\n",
       "      <th>probability</th>\n",
       "    </tr>\n",
       "  </thead>\n",
       "  <tbody>\n",
       "    <tr>\n",
       "      <th>0</th>\n",
       "      <td>1.0</td>\n",
       "      <td>(0.0, 0.0, 6.0, 0.0, 1.0)</td>\n",
       "      <td>[40.0, 1806.0]</td>\n",
       "      <td>1.0</td>\n",
       "      <td>[0.021668472372697724, 0.9783315276273022]</td>\n",
       "    </tr>\n",
       "    <tr>\n",
       "      <th>1</th>\n",
       "      <td>1.0</td>\n",
       "      <td>(0.0, 0.0, 20.0, 0.0, 1.0)</td>\n",
       "      <td>[40.0, 1806.0]</td>\n",
       "      <td>1.0</td>\n",
       "      <td>[0.021668472372697724, 0.9783315276273022]</td>\n",
       "    </tr>\n",
       "    <tr>\n",
       "      <th>2</th>\n",
       "      <td>1.0</td>\n",
       "      <td>(0.0, 0.0, 20.0, 0.0, 1.0)</td>\n",
       "      <td>[40.0, 1806.0]</td>\n",
       "      <td>1.0</td>\n",
       "      <td>[0.021668472372697724, 0.9783315276273022]</td>\n",
       "    </tr>\n",
       "    <tr>\n",
       "      <th>3</th>\n",
       "      <td>1.0</td>\n",
       "      <td>(0.0, 0.0, 0.0, 0.0, 1.0)</td>\n",
       "      <td>[40.0, 1806.0]</td>\n",
       "      <td>1.0</td>\n",
       "      <td>[0.021668472372697724, 0.9783315276273022]</td>\n",
       "    </tr>\n",
       "    <tr>\n",
       "      <th>4</th>\n",
       "      <td>1.0</td>\n",
       "      <td>[0.0, 0.0, 7.0, 1.0, 1.0]</td>\n",
       "      <td>[40.0, 1806.0]</td>\n",
       "      <td>1.0</td>\n",
       "      <td>[0.021668472372697724, 0.9783315276273022]</td>\n",
       "    </tr>\n",
       "  </tbody>\n",
       "</table>\n",
       "</div>\n",
       "      <button class=\"colab-df-convert\" onclick=\"convertToInteractive('df-fc537edb-40d5-494a-a64e-678df2d30535')\"\n",
       "              title=\"Convert this dataframe to an interactive table.\"\n",
       "              style=\"display:none;\">\n",
       "        \n",
       "  <svg xmlns=\"http://www.w3.org/2000/svg\" height=\"24px\"viewBox=\"0 0 24 24\"\n",
       "       width=\"24px\">\n",
       "    <path d=\"M0 0h24v24H0V0z\" fill=\"none\"/>\n",
       "    <path d=\"M18.56 5.44l.94 2.06.94-2.06 2.06-.94-2.06-.94-.94-2.06-.94 2.06-2.06.94zm-11 1L8.5 8.5l.94-2.06 2.06-.94-2.06-.94L8.5 2.5l-.94 2.06-2.06.94zm10 10l.94 2.06.94-2.06 2.06-.94-2.06-.94-.94-2.06-.94 2.06-2.06.94z\"/><path d=\"M17.41 7.96l-1.37-1.37c-.4-.4-.92-.59-1.43-.59-.52 0-1.04.2-1.43.59L10.3 9.45l-7.72 7.72c-.78.78-.78 2.05 0 2.83L4 21.41c.39.39.9.59 1.41.59.51 0 1.02-.2 1.41-.59l7.78-7.78 2.81-2.81c.8-.78.8-2.07 0-2.86zM5.41 20L4 18.59l7.72-7.72 1.47 1.35L5.41 20z\"/>\n",
       "  </svg>\n",
       "      </button>\n",
       "      \n",
       "  <style>\n",
       "    .colab-df-container {\n",
       "      display:flex;\n",
       "      flex-wrap:wrap;\n",
       "      gap: 12px;\n",
       "    }\n",
       "\n",
       "    .colab-df-convert {\n",
       "      background-color: #E8F0FE;\n",
       "      border: none;\n",
       "      border-radius: 50%;\n",
       "      cursor: pointer;\n",
       "      display: none;\n",
       "      fill: #1967D2;\n",
       "      height: 32px;\n",
       "      padding: 0 0 0 0;\n",
       "      width: 32px;\n",
       "    }\n",
       "\n",
       "    .colab-df-convert:hover {\n",
       "      background-color: #E2EBFA;\n",
       "      box-shadow: 0px 1px 2px rgba(60, 64, 67, 0.3), 0px 1px 3px 1px rgba(60, 64, 67, 0.15);\n",
       "      fill: #174EA6;\n",
       "    }\n",
       "\n",
       "    [theme=dark] .colab-df-convert {\n",
       "      background-color: #3B4455;\n",
       "      fill: #D2E3FC;\n",
       "    }\n",
       "\n",
       "    [theme=dark] .colab-df-convert:hover {\n",
       "      background-color: #434B5C;\n",
       "      box-shadow: 0px 1px 3px 1px rgba(0, 0, 0, 0.15);\n",
       "      filter: drop-shadow(0px 1px 2px rgba(0, 0, 0, 0.3));\n",
       "      fill: #FFFFFF;\n",
       "    }\n",
       "  </style>\n",
       "\n",
       "      <script>\n",
       "        const buttonEl =\n",
       "          document.querySelector('#df-fc537edb-40d5-494a-a64e-678df2d30535 button.colab-df-convert');\n",
       "        buttonEl.style.display =\n",
       "          google.colab.kernel.accessAllowed ? 'block' : 'none';\n",
       "\n",
       "        async function convertToInteractive(key) {\n",
       "          const element = document.querySelector('#df-fc537edb-40d5-494a-a64e-678df2d30535');\n",
       "          const dataTable =\n",
       "            await google.colab.kernel.invokeFunction('convertToInteractive',\n",
       "                                                     [key], {});\n",
       "          if (!dataTable) return;\n",
       "\n",
       "          const docLinkHtml = 'Like what you see? Visit the ' +\n",
       "            '<a target=\"_blank\" href=https://colab.research.google.com/notebooks/data_table.ipynb>data table notebook</a>'\n",
       "            + ' to learn more about interactive tables.';\n",
       "          element.innerHTML = '';\n",
       "          dataTable['output_type'] = 'display_data';\n",
       "          await google.colab.output.renderOutput(dataTable, element);\n",
       "          const docLink = document.createElement('div');\n",
       "          docLink.innerHTML = docLinkHtml;\n",
       "          element.appendChild(docLink);\n",
       "        }\n",
       "      </script>\n",
       "    </div>\n",
       "  </div>\n",
       "  "
      ],
      "text/plain": [
       "   is_paid  ...                                 probability\n",
       "0      1.0  ...  [0.021668472372697724, 0.9783315276273022]\n",
       "1      1.0  ...  [0.021668472372697724, 0.9783315276273022]\n",
       "2      1.0  ...  [0.021668472372697724, 0.9783315276273022]\n",
       "3      1.0  ...  [0.021668472372697724, 0.9783315276273022]\n",
       "4      1.0  ...  [0.021668472372697724, 0.9783315276273022]\n",
       "\n",
       "[5 rows x 5 columns]"
      ]
     },
     "execution_count": 118,
     "metadata": {},
     "output_type": "execute_result"
    }
   ],
   "source": [
    "predictions = dec_tree_model.transform(test)\n",
    "predictions.select('is_paid', 'features', 'rawPrediction', 'prediction', 'probability').toPandas().head(5)"
   ]
  },
  {
   "cell_type": "code",
   "execution_count": null,
   "metadata": {
    "colab": {
     "base_uri": "https://localhost:8080/"
    },
    "id": "DBxedsAeDFgv",
    "outputId": "151ea1ba-1e41-4df3-feb4-281a67768a75"
   },
   "outputs": [
    {
     "name": "stderr",
     "output_type": "stream",
     "text": [
      "/usr/local/lib/python3.7/dist-packages/pyspark/sql/context.py:127: FutureWarning: Deprecated in 3.0.0. Use SparkSession.builder.getOrCreate() instead.\n",
      "  FutureWarning\n"
     ]
    },
    {
     "name": "stdout",
     "output_type": "stream",
     "text": [
      "Summary Stats\n",
      "Precision = 0.9507246376811594\n",
      "Recall = 0.9791044776119403\n",
      "F1 Score = 0.9647058823529412\n"
     ]
    }
   ],
   "source": [
    "# Metrics For Decision Trees\n",
    "predictionAndLabels = predictions.rdd.map(lambda rec:(rec.prediction, rec.is_paid))\n",
    "metrics = MulticlassMetrics(predictionAndLabels)\n",
    "precision = metrics.precision(1.0)\n",
    "recall = metrics.recall(1.0)\n",
    "f1Score = metrics.fMeasure(1.0)\n",
    "print(\"Summary Stats\")\n",
    "print(\"Precision = %s\" % precision)\n",
    "print(\"Recall = %s\" % recall)\n",
    "print(\"F1 Score = %s\" % f1Score)"
   ]
  },
  {
   "cell_type": "code",
   "execution_count": null,
   "metadata": {
    "id": "GH6vHMPU9C4D"
   },
   "outputs": [],
   "source": []
  },
  {
   "cell_type": "code",
   "execution_count": null,
   "metadata": {
    "id": "QcEGvH6duHMv"
   },
   "outputs": [],
   "source": [
    "#fernando \n",
    "log_model = pipeline.fit(train)"
   ]
  },
  {
   "cell_type": "code",
   "execution_count": null,
   "metadata": {
    "id": "FR9Q1-sUtinz"
   },
   "outputs": [],
   "source": [
    "#fernando \n",
    "from pyspark.ml.evaluation import MulticlassClassificationEvaluator\n",
    "log_reg_model = log_model.stages[2]"
   ]
  },
  {
   "cell_type": "code",
   "execution_count": null,
   "metadata": {
    "id": "wLAaHtoXuhfW"
   },
   "outputs": [],
   "source": [
    "#fernando \n",
    "lrModel = log_model.stages[2]"
   ]
  },
  {
   "cell_type": "code",
   "execution_count": null,
   "metadata": {
    "colab": {
     "base_uri": "https://localhost:8080/"
    },
    "id": "kNCZkSP7uvYW",
    "outputId": "db81166d-711e-4356-cc2b-ce63d143d11d"
   },
   "outputs": [
    {
     "name": "stderr",
     "output_type": "stream",
     "text": [
      "/usr/local/lib/python3.7/dist-packages/pyspark/sql/context.py:127: FutureWarning: Deprecated in 3.0.0. Use SparkSession.builder.getOrCreate() instead.\n",
      "  FutureWarning\n"
     ]
    }
   ],
   "source": [
    "#fernando \n",
    "fMeasure = trainingSummary.fMeasureByThreshold\n",
    "maxFMeasure = fMeasure.groupBy().max('F-Measure').select('max(F-Measure)').head(5)\n",
    "# bestThreshold = fMeasure.where(fMeasure['F-Measure'] == maxFMeasure['max(F-Measure)']) \\\n",
    "#     .select('threshold').head()['threshold']\n",
    "# lr.setThreshold(bestThreshold)"
   ]
  },
  {
   "cell_type": "markdown",
   "metadata": {
    "id": "fMsRpQ5sGzXk"
   },
   "source": [
    "**Support Vector Machine**"
   ]
  },
  {
   "cell_type": "code",
   "execution_count": null,
   "metadata": {
    "id": "BVBn9TV_E14q"
   },
   "outputs": [],
   "source": [
    "from pyspark.ml.classification import LinearSVC\n",
    "lsvm = LinearSVC(featuresCol='features', labelCol='is_paid')\n",
    "lsvm_model = lsvm.fit(train)"
   ]
  },
  {
   "cell_type": "code",
   "execution_count": null,
   "metadata": {
    "colab": {
     "base_uri": "https://localhost:8080/"
    },
    "id": "1rAn10w5AWIv",
    "outputId": "48b27e6b-77f6-430b-edf0-3b17900b8af9"
   },
   "outputs": [
    {
     "data": {
      "text/plain": [
       "<bound method LinearSVCModel.summary of LinearSVCModel: uid=LinearSVC_eef109ca6af8, numClasses=2, numFeatures=5>"
      ]
     },
     "execution_count": 59,
     "metadata": {},
     "output_type": "execute_result"
    }
   ],
   "source": [
    "lsvm_model.summary"
   ]
  },
  {
   "cell_type": "code",
   "execution_count": null,
   "metadata": {
    "colab": {
     "base_uri": "https://localhost:8080/",
     "height": 206
    },
    "id": "vSNRkbyOHBO6",
    "outputId": "152fba14-2f7c-42e8-b23d-bcbc3658b44f"
   },
   "outputs": [
    {
     "data": {
      "text/html": [
       "\n",
       "  <div id=\"df-d3b00903-3524-4c7d-86b2-25b41d93976a\">\n",
       "    <div class=\"colab-df-container\">\n",
       "      <div>\n",
       "<style scoped>\n",
       "    .dataframe tbody tr th:only-of-type {\n",
       "        vertical-align: middle;\n",
       "    }\n",
       "\n",
       "    .dataframe tbody tr th {\n",
       "        vertical-align: top;\n",
       "    }\n",
       "\n",
       "    .dataframe thead th {\n",
       "        text-align: right;\n",
       "    }\n",
       "</style>\n",
       "<table border=\"1\" class=\"dataframe\">\n",
       "  <thead>\n",
       "    <tr style=\"text-align: right;\">\n",
       "      <th></th>\n",
       "      <th>is_paid</th>\n",
       "      <th>features</th>\n",
       "      <th>rawPrediction</th>\n",
       "      <th>prediction</th>\n",
       "    </tr>\n",
       "  </thead>\n",
       "  <tbody>\n",
       "    <tr>\n",
       "      <th>0</th>\n",
       "      <td>1.0</td>\n",
       "      <td>(0.0, 0.0, 6.0, 0.0, 1.0)</td>\n",
       "      <td>[-1.008221948669787, 1.008221948669787]</td>\n",
       "      <td>1.0</td>\n",
       "    </tr>\n",
       "    <tr>\n",
       "      <th>1</th>\n",
       "      <td>1.0</td>\n",
       "      <td>(0.0, 0.0, 20.0, 0.0, 1.0)</td>\n",
       "      <td>[-1.040755005284959, 1.040755005284959]</td>\n",
       "      <td>1.0</td>\n",
       "    </tr>\n",
       "    <tr>\n",
       "      <th>2</th>\n",
       "      <td>1.0</td>\n",
       "      <td>(0.0, 0.0, 20.0, 0.0, 1.0)</td>\n",
       "      <td>[-1.040755005284959, 1.040755005284959]</td>\n",
       "      <td>1.0</td>\n",
       "    </tr>\n",
       "    <tr>\n",
       "      <th>3</th>\n",
       "      <td>1.0</td>\n",
       "      <td>(0.0, 0.0, 0.0, 0.0, 1.0)</td>\n",
       "      <td>[-0.9942792101204275, 0.9942792101204275]</td>\n",
       "      <td>1.0</td>\n",
       "    </tr>\n",
       "    <tr>\n",
       "      <th>4</th>\n",
       "      <td>1.0</td>\n",
       "      <td>[0.0, 0.0, 7.0, 1.0, 1.0]</td>\n",
       "      <td>[-1.0080074135165407, 1.0080074135165407]</td>\n",
       "      <td>1.0</td>\n",
       "    </tr>\n",
       "  </tbody>\n",
       "</table>\n",
       "</div>\n",
       "      <button class=\"colab-df-convert\" onclick=\"convertToInteractive('df-d3b00903-3524-4c7d-86b2-25b41d93976a')\"\n",
       "              title=\"Convert this dataframe to an interactive table.\"\n",
       "              style=\"display:none;\">\n",
       "        \n",
       "  <svg xmlns=\"http://www.w3.org/2000/svg\" height=\"24px\"viewBox=\"0 0 24 24\"\n",
       "       width=\"24px\">\n",
       "    <path d=\"M0 0h24v24H0V0z\" fill=\"none\"/>\n",
       "    <path d=\"M18.56 5.44l.94 2.06.94-2.06 2.06-.94-2.06-.94-.94-2.06-.94 2.06-2.06.94zm-11 1L8.5 8.5l.94-2.06 2.06-.94-2.06-.94L8.5 2.5l-.94 2.06-2.06.94zm10 10l.94 2.06.94-2.06 2.06-.94-2.06-.94-.94-2.06-.94 2.06-2.06.94z\"/><path d=\"M17.41 7.96l-1.37-1.37c-.4-.4-.92-.59-1.43-.59-.52 0-1.04.2-1.43.59L10.3 9.45l-7.72 7.72c-.78.78-.78 2.05 0 2.83L4 21.41c.39.39.9.59 1.41.59.51 0 1.02-.2 1.41-.59l7.78-7.78 2.81-2.81c.8-.78.8-2.07 0-2.86zM5.41 20L4 18.59l7.72-7.72 1.47 1.35L5.41 20z\"/>\n",
       "  </svg>\n",
       "      </button>\n",
       "      \n",
       "  <style>\n",
       "    .colab-df-container {\n",
       "      display:flex;\n",
       "      flex-wrap:wrap;\n",
       "      gap: 12px;\n",
       "    }\n",
       "\n",
       "    .colab-df-convert {\n",
       "      background-color: #E8F0FE;\n",
       "      border: none;\n",
       "      border-radius: 50%;\n",
       "      cursor: pointer;\n",
       "      display: none;\n",
       "      fill: #1967D2;\n",
       "      height: 32px;\n",
       "      padding: 0 0 0 0;\n",
       "      width: 32px;\n",
       "    }\n",
       "\n",
       "    .colab-df-convert:hover {\n",
       "      background-color: #E2EBFA;\n",
       "      box-shadow: 0px 1px 2px rgba(60, 64, 67, 0.3), 0px 1px 3px 1px rgba(60, 64, 67, 0.15);\n",
       "      fill: #174EA6;\n",
       "    }\n",
       "\n",
       "    [theme=dark] .colab-df-convert {\n",
       "      background-color: #3B4455;\n",
       "      fill: #D2E3FC;\n",
       "    }\n",
       "\n",
       "    [theme=dark] .colab-df-convert:hover {\n",
       "      background-color: #434B5C;\n",
       "      box-shadow: 0px 1px 3px 1px rgba(0, 0, 0, 0.15);\n",
       "      filter: drop-shadow(0px 1px 2px rgba(0, 0, 0, 0.3));\n",
       "      fill: #FFFFFF;\n",
       "    }\n",
       "  </style>\n",
       "\n",
       "      <script>\n",
       "        const buttonEl =\n",
       "          document.querySelector('#df-d3b00903-3524-4c7d-86b2-25b41d93976a button.colab-df-convert');\n",
       "        buttonEl.style.display =\n",
       "          google.colab.kernel.accessAllowed ? 'block' : 'none';\n",
       "\n",
       "        async function convertToInteractive(key) {\n",
       "          const element = document.querySelector('#df-d3b00903-3524-4c7d-86b2-25b41d93976a');\n",
       "          const dataTable =\n",
       "            await google.colab.kernel.invokeFunction('convertToInteractive',\n",
       "                                                     [key], {});\n",
       "          if (!dataTable) return;\n",
       "\n",
       "          const docLinkHtml = 'Like what you see? Visit the ' +\n",
       "            '<a target=\"_blank\" href=https://colab.research.google.com/notebooks/data_table.ipynb>data table notebook</a>'\n",
       "            + ' to learn more about interactive tables.';\n",
       "          element.innerHTML = '';\n",
       "          dataTable['output_type'] = 'display_data';\n",
       "          await google.colab.output.renderOutput(dataTable, element);\n",
       "          const docLink = document.createElement('div');\n",
       "          docLink.innerHTML = docLinkHtml;\n",
       "          element.appendChild(docLink);\n",
       "        }\n",
       "      </script>\n",
       "    </div>\n",
       "  </div>\n",
       "  "
      ],
      "text/plain": [
       "   is_paid  ... prediction\n",
       "0      1.0  ...        1.0\n",
       "1      1.0  ...        1.0\n",
       "2      1.0  ...        1.0\n",
       "3      1.0  ...        1.0\n",
       "4      1.0  ...        1.0\n",
       "\n",
       "[5 rows x 4 columns]"
      ]
     },
     "execution_count": 68,
     "metadata": {},
     "output_type": "execute_result"
    }
   ],
   "source": [
    "predictions = lsvm_model.transform(test)\n",
    "predictions.select('is_paid', 'features', 'rawPrediction', 'prediction').toPandas().head(5)"
   ]
  },
  {
   "cell_type": "code",
   "execution_count": null,
   "metadata": {
    "colab": {
     "base_uri": "https://localhost:8080/"
    },
    "id": "zfZfEPpTyc15",
    "outputId": "b0b34ef0-e718-4fd1-a629-f83e2ac0c98e"
   },
   "outputs": [
    {
     "data": {
      "text/plain": [
       "DataFrame[features: vector, is_paid: float, rawPrediction: vector, prediction: double]"
      ]
     },
     "execution_count": 69,
     "metadata": {},
     "output_type": "execute_result"
    }
   ],
   "source": [
    "predictions"
   ]
  },
  {
   "cell_type": "code",
   "execution_count": null,
   "metadata": {
    "colab": {
     "base_uri": "https://localhost:8080/"
    },
    "id": "EjV6YTM3Hp6P",
    "outputId": "9e506861-2061-461e-9ee4-fd48b108e5a6"
   },
   "outputs": [
    {
     "name": "stderr",
     "output_type": "stream",
     "text": [
      "/usr/local/lib/python3.7/dist-packages/pyspark/sql/context.py:127: FutureWarning: Deprecated in 3.0.0. Use SparkSession.builder.getOrCreate() instead.\n",
      "  FutureWarning\n"
     ]
    },
    {
     "name": "stdout",
     "output_type": "stream",
     "text": [
      "Summary Stats\n",
      "Precision = 0.9241379310344827\n",
      "Recall = 1.0\n",
      "F1 Score = 0.9605734767025089\n"
     ]
    }
   ],
   "source": [
    "# Metrics For Support Vector Machine\n",
    "predictionAndLabels = predictions.rdd.map(lambda rec:(rec.prediction, rec.is_paid))\n",
    "metrics = MulticlassMetrics(predictionAndLabels)\n",
    "precision = metrics.precision(1.0)\n",
    "recall = metrics.recall(1.0)\n",
    "f1Score = metrics.fMeasure(1.0)\n",
    "print(\"Summary Stats\")\n",
    "print(\"Precision = %s\" % precision)\n",
    "print(\"Recall = %s\" % recall)\n",
    "print(\"F1 Score = %s\" % f1Score)"
   ]
  },
  {
   "cell_type": "code",
   "execution_count": null,
   "metadata": {
    "id": "85Q9N5iuxPSx"
   },
   "outputs": [],
   "source": [
    "#fernando lsvm roc \n",
    "\n",
    "from pyspark.ml.evaluation import BinaryClassificationEvaluator\n",
    "svm = LinearSVC(maxIter=5, regParam=0.01,featuresCol='features', labelCol='is_paid')\n",
    "test_prediction = lsvm_model.transform(test)\n",
    "evaluator= BinaryClassificationEvaluator()\n"
   ]
  },
  {
   "cell_type": "markdown",
   "metadata": {
    "id": "3ZG2QjsKH6ax"
   },
   "source": [
    "#### How our models have performed for predicting whether a course is paid or free?\n",
    "\n",
    "Model | Precision | Recall | F1 Score\n",
    "--- | --- | --- | ---\n",
    "Logistic Regression | 0.935 | 0.994 | 0.963\n",
    "Decision Trees | 0.951 | 0.979 | 0.964\n",
    "Linear SVM | 0.924 | 1.0 | 0.961"
   ]
  },
  {
   "cell_type": "code",
   "execution_count": null,
   "metadata": {
    "colab": {
     "base_uri": "https://localhost:8080/",
     "height": 347
    },
    "id": "oOxYY7Xm-Imz",
    "outputId": "8b207795-7885-4d76-c52a-a0cb559b00b5"
   },
   "outputs": [
    {
     "name": "stderr",
     "output_type": "stream",
     "text": [
      "/usr/local/lib/python3.7/dist-packages/pyspark/sql/context.py:127: FutureWarning: Deprecated in 3.0.0. Use SparkSession.builder.getOrCreate() instead.\n",
      "  FutureWarning\n"
     ]
    },
    {
     "data": {
      "image/png": "[encoded data removed]",
      "text/plain": [
       "<Figure size 432x288 with 1 Axes>"
      ]
     },
     "metadata": {
      "needs_background": "light"
     },
     "output_type": "display_data"
    },
    {
     "name": "stdout",
     "output_type": "stream",
     "text": [
      "Training set areaUnderROC: 0.8173425485835546\n"
     ]
    }
   ],
   "source": [
    "trainingSummary_log = log_reg_model.summary\n",
    "\n",
    "\n",
    "roc_log = trainingSummary_log.roc.toPandas()\n",
    "\n",
    "plt.plot(roc_log['FPR'],roc_log['TPR'])\n",
    "plt.ylabel('False Positive Rate')\n",
    "plt.xlabel('True Positive Rate')\n",
    "plt.title('ROC Curve')\n",
    "plt.show()\n",
    "print('Training set areaUnderROC: ' + str(trainingSummary_log.areaUnderROC))"
   ]
  },
  {
   "cell_type": "markdown",
   "metadata": {
    "id": "E24mpMV7LajP"
   },
   "source": [
    "## Using some course features to predict the price of a course\n",
    "We will use the content_duration, num_lectures, subject and level attributes to predict whether price of the course\n",
    "\n",
    "We will use the following supervised classification algorithms to experiment with the data - \n",
    "1.   Linear Regression\n",
    "2.   Decision Tree Regression\n",
    "3.   Random Forest Regression"
   ]
  },
  {
   "cell_type": "code",
   "execution_count": null,
   "metadata": {
    "colab": {
     "base_uri": "https://localhost:8080/"
    },
    "id": "aUf4fXBLN8o9",
    "outputId": "b7acf57a-66fc-4810-89c1-5de2e61a2a22"
   },
   "outputs": [
    {
     "name": "stdout",
     "output_type": "stream",
     "text": [
      "root\n",
      " |-- course_id: integer (nullable = true)\n",
      " |-- course_title: string (nullable = true)\n",
      " |-- url: string (nullable = true)\n",
      " |-- is_paid: boolean (nullable = true)\n",
      " |-- price: integer (nullable = true)\n",
      " |-- num_subscribers: integer (nullable = true)\n",
      " |-- num_reviews: integer (nullable = true)\n",
      " |-- num_lectures: integer (nullable = true)\n",
      " |-- level: string (nullable = true)\n",
      " |-- content_duration: string (nullable = true)\n",
      " |-- published_timestamp: timestamp (nullable = true)\n",
      " |-- subject: string (nullable = true)\n",
      "\n"
     ]
    }
   ],
   "source": [
    "location = \"./gdrive/MyDrive/dsci632/datasets/udemy_courses.csv\"\n",
    "udemy = spark.read.format('csv').option('header', 'true').option('inferSchema', 'true').load(location)\n",
    "udemy.printSchema()"
   ]
  },
  {
   "cell_type": "code",
   "execution_count": null,
   "metadata": {
    "id": "pjswga_AN_au"
   },
   "outputs": [],
   "source": [
    "udemy = udemy.withColumn(\"is_paid\",udemy.is_paid.cast(FloatType()))\n",
    "udemy = udemy.withColumn(\"price\",udemy.price.cast(FloatType()))\n",
    "udemy = udemy.withColumn(\"content_duration\",udemy.content_duration.cast(FloatType()))"
   ]
  },
  {
   "cell_type": "code",
   "execution_count": null,
   "metadata": {
    "id": "tzoF2NaWNh2d"
   },
   "outputs": [],
   "source": [
    "# Selecting only paid courses\n",
    "udemy = udemy.filter(udemy.is_paid == True)"
   ]
  },
  {
   "cell_type": "code",
   "execution_count": null,
   "metadata": {
    "colab": {
     "base_uri": "https://localhost:8080/"
    },
    "id": "IcOErs5qNrVI",
    "outputId": "5cb9c4e1-de19-4216-f8f8-8c9f8ce5b1b8"
   },
   "outputs": [
    {
     "name": "stdout",
     "output_type": "stream",
     "text": [
      "+---------+--------------------+--------------------+-------+-----+---------------+-----------+------------+------------------+----------------+-------------------+----------------+\n",
      "|course_id|        course_title|                 url|is_paid|price|num_subscribers|num_reviews|num_lectures|             level|content_duration|published_timestamp|         subject|\n",
      "+---------+--------------------+--------------------+-------+-----+---------------+-----------+------------+------------------+----------------+-------------------+----------------+\n",
      "|  1070968|Ultimate Investme...|https://www.udemy...|    1.0|200.0|           2147|         23|          51|        All Levels|             1.5|2017-01-18 20:58:58|Business Finance|\n",
      "|  1113822|Complete GST Cour...|https://www.udemy...|    1.0| 75.0|           2792|        923|         274|        All Levels|            39.0|2017-03-09 16:34:20|Business Finance|\n",
      "|  1006314|Financial Modelin...|https://www.udemy...|    1.0| 45.0|           2174|         74|          51|Intermediate Level|             2.5|2016-12-19 19:26:30|Business Finance|\n",
      "|  1210588|Beginner to Pro -...|https://www.udemy...|    1.0| 95.0|           2451|         11|          36|        All Levels|             3.0|2017-05-30 20:07:24|Business Finance|\n",
      "|  1011058|How To Maximize Y...|https://www.udemy...|    1.0|200.0|           1276|         45|          26|Intermediate Level|             2.0|2016-12-13 14:57:18|Business Finance|\n",
      "|   192870|Trading Penny Sto...|https://www.udemy...|    1.0|150.0|           9221|        138|          25|        All Levels|             3.0|2014-05-02 15:13:30|Business Finance|\n",
      "|   739964|Investing And Tra...|https://www.udemy...|    1.0| 65.0|           1540|        178|          26|    Beginner Level|             1.0|2016-02-21 18:23:12|Business Finance|\n",
      "|   403100|Trading Stock Cha...|https://www.udemy...|    1.0| 95.0|           2917|        148|          23|        All Levels|             2.5|2015-01-30 22:13:03|Business Finance|\n",
      "|   476268|Options Trading 3...|https://www.udemy...|    1.0|195.0|           5172|         34|          38|      Expert Level|             2.5|2015-05-28 00:14:03|Business Finance|\n",
      "|  1167710|The Only Investme...|https://www.udemy...|    1.0|200.0|            827|         14|          15|        All Levels|             1.0|2017-04-18 18:13:32|Business Finance|\n",
      "|   592338|Forex Trading Sec...|https://www.udemy...|    1.0|200.0|           4284|         93|          76|        All Levels|             5.0|2015-09-11 16:47:02|Business Finance|\n",
      "|   975046|Trading Options W...|https://www.udemy...|    1.0|200.0|           1380|         42|          17|        All Levels|             1.0|2016-10-18 22:52:31|Business Finance|\n",
      "|   742602|Financial Managem...|https://www.udemy...|    1.0| 30.0|           3607|         21|          19|        All Levels|             1.5|2016-02-03 18:04:01|Business Finance|\n",
      "|   794151|Forex Trading Cou...|https://www.udemy...|    1.0|195.0|           4061|         52|          16|        All Levels|             2.0|2016-03-16 15:40:19|Business Finance|\n",
      "|  1196544|Python Algo Tradi...|https://www.udemy...|    1.0|200.0|            294|         19|          42|        All Levels|             7.0|2017-04-28 16:41:44|Business Finance|\n",
      "|   504036|Short Selling: Le...|https://www.udemy...|    1.0| 75.0|           2276|        106|          19|Intermediate Level|             1.5|2015-06-22 21:18:35|Business Finance|\n",
      "|   719698|Basic Technical A...|https://www.udemy...|    1.0| 20.0|           4919|         79|          16|    Beginner Level|             1.5|2016-01-08 17:21:26|Business Finance|\n",
      "|   564966|The Complete Char...|https://www.udemy...|    1.0|200.0|           2666|        115|          52|        All Levels|             4.0|2015-08-10 21:07:35|Business Finance|\n",
      "|   606928|7 Deadly Mistakes...|https://www.udemy...|    1.0| 50.0|           5354|         24|          23|        All Levels|             1.5|2015-09-21 18:10:34|Business Finance|\n",
      "|    58977|Financial Stateme...|https://www.udemy...|    1.0| 95.0|           8095|        249|          12|    Beginner Level|       0.5833333|2013-06-09 00:21:26|Business Finance|\n",
      "+---------+--------------------+--------------------+-------+-----+---------------+-----------+------------+------------------+----------------+-------------------+----------------+\n",
      "only showing top 20 rows\n",
      "\n"
     ]
    }
   ],
   "source": [
    "udemy.show()"
   ]
  },
  {
   "cell_type": "markdown",
   "metadata": {
    "id": "C5wJ8K4HMTYS"
   },
   "source": [
    "Constructing Feature Vectors"
   ]
  },
  {
   "cell_type": "code",
   "execution_count": null,
   "metadata": {
    "colab": {
     "base_uri": "https://localhost:8080/"
    },
    "id": "ij7iiJMiMTYh",
    "outputId": "5133f81c-2a17-49ca-c38a-e5d7b2aff3ce"
   },
   "outputs": [
    {
     "name": "stdout",
     "output_type": "stream",
     "text": [
      "+--------------------+-----+\n",
      "|            features|price|\n",
      "+--------------------+-----+\n",
      "|  [1.5,51.0,0.0,0.0]|200.0|\n",
      "|[39.0,274.0,0.0,0.0]| 75.0|\n",
      "|  [2.5,51.0,2.0,0.0]| 45.0|\n",
      "|  [3.0,36.0,0.0,0.0]| 95.0|\n",
      "|  [2.0,26.0,2.0,0.0]|200.0|\n",
      "|  [3.0,25.0,0.0,0.0]|150.0|\n",
      "|  [1.0,26.0,1.0,0.0]| 65.0|\n",
      "|  [2.5,23.0,0.0,0.0]| 95.0|\n",
      "|  [2.5,38.0,3.0,0.0]|195.0|\n",
      "|  [1.0,15.0,0.0,0.0]|200.0|\n",
      "|  [5.0,76.0,0.0,0.0]|200.0|\n",
      "|  [1.0,17.0,0.0,0.0]|200.0|\n",
      "|  [1.5,19.0,0.0,0.0]| 30.0|\n",
      "|  [2.0,16.0,0.0,0.0]|195.0|\n",
      "|  [7.0,42.0,0.0,0.0]|200.0|\n",
      "|  [1.5,19.0,2.0,0.0]| 75.0|\n",
      "|  [1.5,16.0,1.0,0.0]| 20.0|\n",
      "|  [4.0,52.0,0.0,0.0]|200.0|\n",
      "|  [1.5,23.0,0.0,0.0]| 50.0|\n",
      "|[0.58333331346511...| 95.0|\n",
      "+--------------------+-----+\n",
      "only showing top 20 rows\n",
      "\n"
     ]
    }
   ],
   "source": [
    "cols = [\"level\", \"subject\"]\n",
    "stages = [StringIndexer(inputCol=column, outputCol=column+\"_idx\").setHandleInvalid(\"skip\").fit(udemy) for column in cols]\n",
    "\n",
    "# Building Feature \n",
    "feature_cols = [\"content_duration\", \"num_lectures\", \"level_idx\", \"subject_idx\"]\n",
    "stages.append(VectorAssembler(inputCols=feature_cols, outputCol='features'))\n",
    "\n",
    "# Building Pipeline\n",
    "pipeline = Pipeline(stages=stages)\n",
    "udemy_trx = pipeline.fit(udemy).transform(udemy)\n",
    "\n",
    "# Select Feature Vector Column And Target Claim Column\n",
    "udemy_trx = udemy_trx.select(\"features\", \"price\")\n",
    "udemy_trx.show()"
   ]
  },
  {
   "cell_type": "markdown",
   "metadata": {
    "id": "hnX6Pq0SPNRP"
   },
   "source": [
    "Splitting data into train and test"
   ]
  },
  {
   "cell_type": "code",
   "execution_count": null,
   "metadata": {
    "id": "mlph06vsPNRe"
   },
   "outputs": [],
   "source": [
    "train, test = udemy_trx.randomSplit([0.8, 0.2], seed=12345)"
   ]
  },
  {
   "cell_type": "markdown",
   "metadata": {
    "id": "BMti-GlMOeHE"
   },
   "source": [
    "**Linear Regression**"
   ]
  },
  {
   "cell_type": "code",
   "execution_count": null,
   "metadata": {
    "colab": {
     "base_uri": "https://localhost:8080/"
    },
    "id": "2X2hHr4xOdql",
    "outputId": "d22e418e-1fed-46e6-d724-1ef48005004f"
   },
   "outputs": [
    {
     "name": "stdout",
     "output_type": "stream",
     "text": [
      "Coefficients: [0.6515697103980651,0.3020862440156468,-3.2300138957749986,-7.079583171447448]\n",
      "Intercept: 66.22341429536631\n"
     ]
    }
   ],
   "source": [
    "from pyspark.ml.regression import LinearRegression\n",
    "lin_reg = LinearRegression(featuresCol='features', labelCol='price')\n",
    "lin_reg_model = lin_reg.fit(train)\n",
    "print(\"Coefficients: \" + str(lin_reg_model.coefficients))\n",
    "print(\"Intercept: \" + str(lin_reg_model.intercept))"
   ]
  },
  {
   "cell_type": "code",
   "execution_count": null,
   "metadata": {
    "colab": {
     "base_uri": "https://localhost:8080/"
    },
    "id": "0mm07QktMwyx",
    "outputId": "eabd6733-1db9-40a7-e4f2-196c5fff3f2e"
   },
   "outputs": [
    {
     "name": "stdout",
     "output_type": "stream",
     "text": [
      "+------------------+-----+--------------------+\n",
      "|        prediction|price|            features|\n",
      "+------------------+-----+--------------------+\n",
      "| 53.90046402774868|135.0|   [0.5,5.0,0.0,2.0]|\n",
      "|62.199251660075596| 20.0|[0.51666665077209...|\n",
      "|  58.9692377643006| 50.0|[0.51666665077209...|\n",
      "| 67.86133839984193|200.0|[0.51666665077209...|\n",
      "|54.224269280234665|130.0|[0.53333336114883...|\n",
      "+------------------+-----+--------------------+\n",
      "only showing top 5 rows\n",
      "\n"
     ]
    }
   ],
   "source": [
    "lin_reg_preds = lin_reg_model.transform(test)\n",
    "lin_reg_preds.select(\"prediction\",\"price\",\"features\").show(5)"
   ]
  },
  {
   "cell_type": "code",
   "execution_count": null,
   "metadata": {
    "colab": {
     "base_uri": "https://localhost:8080/"
    },
    "id": "T-jnk4NKQiaM",
    "outputId": "885a63eb-1db0-4388-91b8-9271d075ccfc"
   },
   "outputs": [
    {
     "name": "stdout",
     "output_type": "stream",
     "text": [
      "Root Mean Squared Error (RMSE) on test data = 59.4739\n"
     ]
    }
   ],
   "source": [
    "lin_reg_evaluator_lr1 = RegressionEvaluator(\n",
    "    predictionCol=\"prediction\",\n",
    "    labelCol=\"price\",\n",
    "    metricName=\"rmse\"\n",
    ")\n",
    "print(\"Root Mean Squared Error (RMSE) on test data = %g\" % lin_reg_evaluator_lr1.evaluate(lin_reg_preds))"
   ]
  },
  {
   "cell_type": "code",
   "execution_count": null,
   "metadata": {
    "colab": {
     "base_uri": "https://localhost:8080/"
    },
    "id": "-FQ7Gy19ORfb",
    "outputId": "a5ee740c-a8b9-4be1-ff70-cca8bb6c1619"
   },
   "outputs": [
    {
     "name": "stdout",
     "output_type": "stream",
     "text": [
      "Root Mean Squared Error (MAE) on test data = 47.2933\n"
     ]
    }
   ],
   "source": [
    "lin_reg_evaluator_lr2 = RegressionEvaluator(\n",
    "    predictionCol=\"prediction\",\n",
    "    labelCol=\"price\",\n",
    "    metricName=\"mae\"\n",
    ")\n",
    "print(\"Root Mean Squared Error (MAE) on test data = %g\" % lin_reg_evaluator_lr2.evaluate(lin_reg_preds))"
   ]
  },
  {
   "cell_type": "code",
   "execution_count": null,
   "metadata": {
    "colab": {
     "base_uri": "https://localhost:8080/"
    },
    "id": "3yG7d-e53eum",
    "outputId": "a91b4905-f381-4536-befc-1aa183046173"
   },
   "outputs": [
    {
     "name": "stdout",
     "output_type": "stream",
     "text": [
      "Root Mean Squared Error (R^2) on test data = 0.0509552\n"
     ]
    }
   ],
   "source": [
    "lin_reg_evaluator_lr3 = RegressionEvaluator(\n",
    "    predictionCol=\"prediction\",\n",
    "    labelCol=\"price\",\n",
    "    metricName=\"r2\"\n",
    ")\n",
    "print(\"Root Mean Squared Error (R^2) on test data = %g\" % lin_reg_evaluator_lr3.evaluate(lin_reg_preds))"
   ]
  },
  {
   "cell_type": "code",
   "execution_count": null,
   "metadata": {
    "id": "8aJmAVqb5AUI"
   },
   "outputs": [],
   "source": [
    "x_ax = range(0, lin_reg_preds.count())\n",
    "y_pred = lin_reg_preds.select(\"prediction\").collect()\n",
    "y_orig = lin_reg_preds.select(\"price\").collect()  "
   ]
  },
  {
   "cell_type": "code",
   "execution_count": null,
   "metadata": {
    "colab": {
     "base_uri": "https://localhost:8080/",
     "height": 295
    },
    "id": "AS-Ps6zt5PZi",
    "outputId": "d40f1e31-039d-444b-a739-ae15856dd25c"
   },
   "outputs": [
    {
     "data": {
      "image/png": "[encoded data removed]",
      "text/plain": [
       "<Figure size 432x288 with 1 Axes>"
      ]
     },
     "metadata": {
      "needs_background": "light"
     },
     "output_type": "display_data"
    }
   ],
   "source": [
    "#using larger train dataset\n",
    "\n",
    "plt.plot(x_ax, y_orig, label=\"original\")\n",
    "plt.plot(x_ax, y_pred, label=\"predicted\")\n",
    "plt.title(\"Price\")\n",
    "plt.xlabel('X-axis')\n",
    "plt.ylabel('Y-axis')\n",
    "plt.legend(loc='best',fancybox=True, shadow=True)\n",
    "plt.grid(True)\n",
    "plt.show()  "
   ]
  },
  {
   "cell_type": "markdown",
   "metadata": {
    "id": "nRHkks-7RjjG"
   },
   "source": [
    "**Decision Tree Regressor**"
   ]
  },
  {
   "cell_type": "code",
   "execution_count": null,
   "metadata": {
    "id": "yUvNa2fkRjWd"
   },
   "outputs": [],
   "source": [
    "from pyspark.ml.regression import DecisionTreeRegressor\n",
    "dec_tree_reg = DecisionTreeRegressor(featuresCol='features', labelCol='price')\n",
    "dec_tree_reg_model = dec_tree_reg.fit(train)"
   ]
  },
  {
   "cell_type": "code",
   "execution_count": null,
   "metadata": {
    "colab": {
     "base_uri": "https://localhost:8080/"
    },
    "id": "1YJpqi72Q8VY",
    "outputId": "853a47fd-32b0-4c1a-fed2-0d2b1c71b995"
   },
   "outputs": [
    {
     "name": "stdout",
     "output_type": "stream",
     "text": [
      "+------------------+-----+--------------------+\n",
      "|        prediction|price|            features|\n",
      "+------------------+-----+--------------------+\n",
      "|43.982300884955755|135.0|   [0.5,5.0,0.0,2.0]|\n",
      "| 39.82142857142857| 20.0|[0.51666665077209...|\n",
      "| 39.82142857142857| 50.0|[0.51666665077209...|\n",
      "| 48.14159292035398|200.0|[0.51666665077209...|\n",
      "|43.982300884955755|130.0|[0.53333336114883...|\n",
      "+------------------+-----+--------------------+\n",
      "only showing top 5 rows\n",
      "\n"
     ]
    }
   ],
   "source": [
    "dec_tree_reg_preds = dec_tree_reg_model.transform(test)\n",
    "dec_tree_reg_preds.select(\"prediction\",\"price\",\"features\").show(5)"
   ]
  },
  {
   "cell_type": "code",
   "execution_count": null,
   "metadata": {
    "colab": {
     "base_uri": "https://localhost:8080/"
    },
    "id": "yMBwKMcbSaAB",
    "outputId": "315f6c29-6b89-4eea-8387-afbe66105cb9"
   },
   "outputs": [
    {
     "name": "stdout",
     "output_type": "stream",
     "text": [
      "Root Mean Squared Error (RMSE) on test data = 58.2871\n"
     ]
    }
   ],
   "source": [
    "dec_tree_reg_evaluator_dt1 = RegressionEvaluator(\n",
    "    predictionCol=\"prediction\",\n",
    "    labelCol=\"price\",\n",
    "    metricName=\"rmse\"\n",
    ")\n",
    "print(\"Root Mean Squared Error (RMSE) on test data = %g\" % dec_tree_reg_evaluator_dt1.evaluate(dec_tree_reg_preds))"
   ]
  },
  {
   "cell_type": "code",
   "execution_count": null,
   "metadata": {
    "colab": {
     "base_uri": "https://localhost:8080/"
    },
    "id": "nlnOTtm-OFKH",
    "outputId": "2a6bc841-cf07-41d8-81e1-aeac782dbbc0"
   },
   "outputs": [
    {
     "name": "stdout",
     "output_type": "stream",
     "text": [
      "Root Mean Squared Error (MAE) on test data = 44.935\n"
     ]
    }
   ],
   "source": [
    "dec_tree_reg_evaluator_dt2 = RegressionEvaluator(\n",
    "    predictionCol=\"prediction\",\n",
    "    labelCol=\"price\",\n",
    "    metricName=\"mae\"\n",
    ")\n",
    "print(\"Root Mean Squared Error (MAE) on test data = %g\" % dec_tree_reg_evaluator_dt2.evaluate(dec_tree_reg_preds))"
   ]
  },
  {
   "cell_type": "code",
   "execution_count": null,
   "metadata": {
    "colab": {
     "base_uri": "https://localhost:8080/"
    },
    "id": "x_3ecVYw4FaH",
    "outputId": "8a43bf47-e0ee-4a20-e993-a70228f27c9d"
   },
   "outputs": [
    {
     "name": "stdout",
     "output_type": "stream",
     "text": [
      "Root Mean Squared Error (R^2) on test data = 0.0884529\n"
     ]
    }
   ],
   "source": [
    "dec_tree_reg_evaluator_dt3 = RegressionEvaluator(\n",
    "    predictionCol=\"prediction\",\n",
    "    labelCol=\"price\",\n",
    "    metricName=\"r2\"\n",
    ")\n",
    "print(\"Root Mean Squared Error (R^2) on test data = %g\" % dec_tree_reg_evaluator_dt3.evaluate(dec_tree_reg_preds))"
   ]
  },
  {
   "cell_type": "code",
   "execution_count": null,
   "metadata": {
    "id": "Ry6b1j0c5ypF"
   },
   "outputs": [],
   "source": [
    "x_ax = range(0, dec_tree_reg_preds.count())\n",
    "y_pred = dec_tree_reg_preds.select(\"prediction\").collect()\n",
    "y_orig = dec_tree_reg_preds.select(\"price\").collect()  "
   ]
  },
  {
   "cell_type": "code",
   "execution_count": null,
   "metadata": {
    "colab": {
     "base_uri": "https://localhost:8080/",
     "height": 295
    },
    "id": "tTJ0PJmL5zj2",
    "outputId": "c9243c3d-5116-48d3-a42b-21ccd3d8d43b"
   },
   "outputs": [
    {
     "data": {
      "image/png": "[encoded data removed]",
      "text/plain": [
       "<Figure size 432x288 with 1 Axes>"
      ]
     },
     "metadata": {
      "needs_background": "light"
     },
     "output_type": "display_data"
    }
   ],
   "source": [
    "#using large train dataset \n",
    "\n",
    "plt.plot(x_ax, y_orig, label=\"original\")\n",
    "plt.plot(x_ax, y_pred, label=\"predicted\")\n",
    "plt.title(\"Price\")\n",
    "plt.xlabel('X-axis')\n",
    "plt.ylabel('Y-axis')\n",
    "plt.legend(loc='best',fancybox=True, shadow=True)\n",
    "plt.grid(True)\n",
    "plt.show()  "
   ]
  },
  {
   "cell_type": "markdown",
   "metadata": {
    "id": "mn63b440Tm4Z"
   },
   "source": [
    "**Random Forest Regressor**"
   ]
  },
  {
   "cell_type": "code",
   "execution_count": null,
   "metadata": {
    "id": "5D2sa_UhTo8u"
   },
   "outputs": [],
   "source": [
    "from pyspark.ml.regression import RandomForestRegressor\n",
    "rf_reg = RandomForestRegressor(featuresCol='features', labelCol='price')\n",
    "rf_reg_model = rf_reg.fit(train)"
   ]
  },
  {
   "cell_type": "code",
   "execution_count": null,
   "metadata": {
    "colab": {
     "base_uri": "https://localhost:8080/"
    },
    "id": "Sd2CfNm3UcQ8",
    "outputId": "14651345-3e16-4ee8-b2a1-28abfed48642"
   },
   "outputs": [
    {
     "name": "stdout",
     "output_type": "stream",
     "text": [
      "+------------------+-----+--------------------+\n",
      "|        prediction|price|            features|\n",
      "+------------------+-----+--------------------+\n",
      "| 40.21591622826532|135.0|   [0.5,5.0,0.0,2.0]|\n",
      "| 42.02453998118986| 20.0|[0.51666665077209...|\n",
      "|43.741078566254565| 50.0|[0.51666665077209...|\n",
      "| 48.06555901905026|200.0|[0.51666665077209...|\n",
      "| 40.21591622826532|130.0|[0.53333336114883...|\n",
      "+------------------+-----+--------------------+\n",
      "only showing top 5 rows\n",
      "\n"
     ]
    }
   ],
   "source": [
    "rf_reg_preds = rf_reg_model.transform(test)\n",
    "rf_reg_preds.select(\"prediction\",\"price\",\"features\").show(5)"
   ]
  },
  {
   "cell_type": "code",
   "execution_count": null,
   "metadata": {
    "colab": {
     "base_uri": "https://localhost:8080/"
    },
    "id": "BSaUEDFFUTKY",
    "outputId": "9237d734-5f31-4e8b-a781-0527df1092ec"
   },
   "outputs": [
    {
     "name": "stdout",
     "output_type": "stream",
     "text": [
      "Root Mean Squared Error (RMSE) on test data = 57.8614\n"
     ]
    }
   ],
   "source": [
    "rf_reg_evaluator_rf1 = RegressionEvaluator(\n",
    "    predictionCol=\"prediction\",\n",
    "    labelCol=\"price\",\n",
    "    metricName=\"rmse\"\n",
    ")\n",
    "print(\"Root Mean Squared Error (RMSE) on test data = %g\" % rf_reg_evaluator_rf1.evaluate(rf_reg_preds))"
   ]
  },
  {
   "cell_type": "code",
   "execution_count": null,
   "metadata": {
    "colab": {
     "base_uri": "https://localhost:8080/"
    },
    "id": "89fIQFxPNloR",
    "outputId": "83b28abd-e180-465d-fbc6-77f11ce0320c"
   },
   "outputs": [
    {
     "name": "stdout",
     "output_type": "stream",
     "text": [
      "Root Mean Squared Error (MAE) on test data = 44.9983\n"
     ]
    }
   ],
   "source": [
    "rf_reg_evaluator_rf2 = RegressionEvaluator(\n",
    "    predictionCol=\"prediction\",\n",
    "    labelCol=\"price\",\n",
    "    metricName=\"mae\"\n",
    ")\n",
    "print(\"Root Mean Squared Error (MAE) on test data = %g\" % rf_reg_evaluator_rf2.evaluate(rf_reg_preds))"
   ]
  },
  {
   "cell_type": "code",
   "execution_count": null,
   "metadata": {
    "colab": {
     "base_uri": "https://localhost:8080/"
    },
    "id": "1njVmSH64LXg",
    "outputId": "b852a94d-6678-4860-e0fa-f5a2c0f190b8"
   },
   "outputs": [
    {
     "name": "stdout",
     "output_type": "stream",
     "text": [
      "Root Mean Squared Error (MAE) on test data = 0.101719\n"
     ]
    }
   ],
   "source": [
    "rf_reg_evaluator_rf3 = RegressionEvaluator(\n",
    "    predictionCol=\"prediction\",\n",
    "    labelCol=\"price\",\n",
    "    metricName=\"r2\"\n",
    ")\n",
    "print(\"Root Mean Squared Error (MAE) on test data = %g\" % rf_reg_evaluator_rf3.evaluate(rf_reg_preds))"
   ]
  },
  {
   "cell_type": "markdown",
   "metadata": {
    "id": "NqqLSK0oNY5X"
   },
   "source": [
    "\n",
    "\n",
    "Model | RMSE | MSE |\n",
    "--- | --- | --- \n",
    "Logistic Regression | 59.4739 | 47.2933 \n",
    "Decision Trees | 58.2871 | 44.935\n",
    "Linear SVM | 57.7003 | 45.1417"
   ]
  },
  {
   "cell_type": "code",
   "execution_count": null,
   "metadata": {
    "id": "Ab19hFX2NPdY"
   },
   "outputs": [],
   "source": [
    "x_ax = range(0, rf_reg_preds.count())\n",
    "y_pred = rf_reg_preds.select(\"prediction\").collect()\n",
    "y_orig = rf_reg_preds.select(\"price\").collect()  "
   ]
  },
  {
   "cell_type": "code",
   "execution_count": null,
   "metadata": {
    "colab": {
     "base_uri": "https://localhost:8080/",
     "height": 295
    },
    "id": "KtkT7fQ57Zi9",
    "outputId": "0ff1c9da-03b6-440d-aecf-bc401beaea33"
   },
   "outputs": [
    {
     "data": {
      "image/png": "[encoded data removed]",
      "text/plain": [
       "<Figure size 432x288 with 1 Axes>"
      ]
     },
     "metadata": {
      "needs_background": "light"
     },
     "output_type": "display_data"
    }
   ],
   "source": [
    "#using large train dataset \n",
    "\n",
    "plt.plot(x_ax, y_orig, label=\"original\")\n",
    "plt.plot(x_ax, y_pred, label=\"predicted\")\n",
    "plt.title(\"Price\")\n",
    "plt.xlabel('X-axis')\n",
    "plt.ylabel('Y-axis')\n",
    "plt.legend(loc='best',fancybox=True, shadow=True)\n",
    "plt.grid(True)\n",
    "plt.show()  "
   ]
  },
  {
   "cell_type": "code",
   "execution_count": null,
   "metadata": {
    "id": "sHvzQGef7aFr"
   },
   "outputs": [],
   "source": []
  }
 ],
 "metadata": {
  "colab": {
   "collapsed_sections": [
    "3ZG2QjsKH6ax",
    "E24mpMV7LajP"
   ],
   "name": "Copy of DSCI632_Project_draft2.ipynb",
   "provenance": []
  },
  "kernelspec": {
   "display_name": "Python 3",
   "language": "python",
   "name": "python3"
  },
  "language_info": {
   "codemirror_mode": {
    "name": "ipython",
    "version": 3
   },
   "file_extension": ".py",
   "mimetype": "text/x-python",
   "name": "python",
   "nbconvert_exporter": "python",
   "pygments_lexer": "ipython3",
   "version": "3.8.8"
  }
 },
 "nbformat": 4,
 "nbformat_minor": 4
}
